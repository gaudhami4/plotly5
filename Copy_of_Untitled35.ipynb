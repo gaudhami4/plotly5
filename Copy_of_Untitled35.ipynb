{
  "nbformat": 4,
  "nbformat_minor": 0,
  "metadata": {
    "colab": {
      "name": "Copy of Untitled35.ipynb",
      "provenance": [],
      "authorship_tag": "ABX9TyNwRwubOMytj3t9iRaD3TAZ",
      "include_colab_link": true
    },
    "kernelspec": {
      "name": "python3",
      "display_name": "Python 3"
    },
    "language_info": {
      "name": "python"
    }
  },
  "cells": [
    {
      "cell_type": "markdown",
      "metadata": {
        "id": "view-in-github",
        "colab_type": "text"
      },
      "source": [
        "<a href=\"https://colab.research.google.com/github/gaudhami4/task1/blob/main/Copy_of_Untitled35.ipynb\" target=\"_parent\"><img src=\"https://colab.research.google.com/assets/colab-badge.svg\" alt=\"Open In Colab\"/></a>"
      ]
    },
    {
      "cell_type": "code",
      "source": [
        "import re\n",
        "regex = re.compile(r'([A-Za-z0-9]+[.-_])*[A-Za-z0-9]+@[A-Za-z0-9-]+(\\.[A-Z|a-z]{2,})+')\n",
        "regex1 = re.compile(\"^(?=.*[a-z])(?=.*[A-Z])(?=.*\\d)(?=.*[@$!%*#?&])[A-Za-z\\d@$!#%*?&]{6,20}$\")\n",
        "\n",
        "def Register():\n",
        "    username = input(\"PLEASE ENTER USERNAME  :  \")\n",
        "    emailID=input(\"ENTER EMAILID  :  \")\n",
        "    password = input(\"PLEASE INPUT DESIRED PASSWORD  :   \")\n",
        "    file = open(\"/content/database1\",\"a\")\n",
        "    file.write(username)\n",
        "    file.write(\" \")\n",
        "    file.write(emailID)\n",
        "    file.write(\" \")\n",
        "    file.write(password)     \n",
        "    file.write(\"\\n\")\n",
        "   \n",
        "    if re.fullmatch(regex, emailID):\n",
        "       \n",
        "       print(\"VALID EMAILID****!!!\")\n",
        "      \n",
        "    else:\n",
        "       pass\n",
        "       print(\"INVALID EMAIL:SHOULD CONTAIN ONE UPPER,LOWER,NUMBER,SPECIAL CHARACTER\")\n",
        " \n",
        "    if re.fullmatch(regex1, password):\n",
        "       print(\"VALID PASSWORD***!!!\")\n",
        "       \n",
        "    else:\n",
        "      pass  \n",
        "      print(\"INVALID PASSWORD:SHOULD CONTAIN ONE UPPER,LOWER,NUMBER,SPECIAL CHARACTER \")\n",
        "      \n",
        "    file.close()\n",
        " \n",
        "Register()\n",
        "\n",
        "def Login():\n",
        "   username = input(\"PLEASE ENTER YOUR USERNAME TO LOGIN  :  \")\n",
        "   emailID=input(\"PLEASE ENTER EMAILID TO LOGIN  :  \")\n",
        "   password = input(\"PLEASE ENTER YOUR PASSWORD TO LOGIN  :  \")  \n",
        "   for line in open(\"/content/database1\",\"r\").readlines(): # Read the lines\n",
        "       login_info = line.split() # Split on the space, and store the results in a list of two strings\n",
        "       if username == login_info[0] and emailID==login_info[1] and password == login_info[2]:\n",
        "            print(\"CORRECT CREDENTIAL****!!!\")\n",
        "            print(\"****SUCCESSFULLY LOGGED IN****\")\n",
        "            return True\n",
        "          \n",
        "           # print(\"INCORRECT CREDENTIAL\")\n",
        "       else:\n",
        "            print(\"INCORRECT CREDENTIAL.\")\n",
        "            print(\"REGISTER NOW**** !!!\")\n",
        "            \n",
        "            Register()\n",
        "       Register()\n",
        "      \n",
        "\n",
        "def Begin():\n",
        "     global option\n",
        "     option=input(\"LOGIN\\SIGUP :->\")\n",
        "     if(option!='login' and option!='sigup'):\n",
        "      Begin()\n",
        "Begin()\n",
        "\n",
        "def access(option):\n",
        "    if(option=='sigup'):\n",
        "     \n",
        "     Register()\n",
        "    else:\n",
        "     \n",
        "      Login()\n",
        "Login()\n",
        "\n",
        "\n",
        "\n",
        "\n",
        "      \n",
        "    \n",
        " "
      ],
      "metadata": {
        "id": "sMt1sjLSM54o"
      },
      "execution_count": null,
      "outputs": []
    },
    {
      "cell_type": "code",
      "source": [
        ""
      ],
      "metadata": {
        "id": "DzQqMbbYNqD1"
      },
      "execution_count": null,
      "outputs": []
    }
  ]
}