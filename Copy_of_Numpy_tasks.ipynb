{
  "cells": [
    {
      "cell_type": "markdown",
      "metadata": {
        "id": "view-in-github",
        "colab_type": "text"
      },
      "source": [
        "<a href=\"https://colab.research.google.com/github/gaudhami4/task1/blob/main/Copy_of_Numpy_tasks.ipynb\" target=\"_parent\"><img src=\"https://colab.research.google.com/assets/colab-badge.svg\" alt=\"Open In Colab\"/></a>"
      ]
    },
    {
      "cell_type": "markdown",
      "metadata": {
        "id": "t2gGDBHnHTxE"
      },
      "source": [
        "# Numpy\n",
        "\n"
      ]
    },
    {
      "cell_type": "markdown",
      "metadata": {
        "id": "lwBRuU84HTxN"
      },
      "source": [
        "#### 1. Import the numpy package under the name `np` (★☆☆) \n",
        "(**hint**: import … as …)"
      ]
    },
    {
      "cell_type": "code",
      "execution_count": 2,
      "metadata": {
        "collapsed": true,
        "id": "V_Q_-xA5HTxO"
      },
      "outputs": [],
      "source": [
        "import numpy as np"
      ]
    },
    {
      "cell_type": "markdown",
      "metadata": {
        "id": "XDAJ8ksdHTxQ"
      },
      "source": [
        "#### 2. Print the numpy version and the configuration (★☆☆) \n",
        "(**hint**: np.\\_\\_version\\_\\_, np.show\\_config)"
      ]
    },
    {
      "cell_type": "code",
      "execution_count": null,
      "metadata": {
        "id": "QI2aQGrEHTxR",
        "outputId": "1b049ab1-214e-41d1-b906-ad52495ee263",
        "colab": {
          "base_uri": "https://localhost:8080/"
        }
      },
      "outputs": [
        {
          "output_type": "stream",
          "name": "stdout",
          "text": [
            "1.21.6\n",
            "blas_mkl_info:\n",
            "  NOT AVAILABLE\n",
            "blis_info:\n",
            "  NOT AVAILABLE\n",
            "openblas_info:\n",
            "    libraries = ['openblas', 'openblas']\n",
            "    library_dirs = ['/usr/local/lib']\n",
            "    language = c\n",
            "    define_macros = [('HAVE_CBLAS', None)]\n",
            "    runtime_library_dirs = ['/usr/local/lib']\n",
            "blas_opt_info:\n",
            "    libraries = ['openblas', 'openblas']\n",
            "    library_dirs = ['/usr/local/lib']\n",
            "    language = c\n",
            "    define_macros = [('HAVE_CBLAS', None)]\n",
            "    runtime_library_dirs = ['/usr/local/lib']\n",
            "lapack_mkl_info:\n",
            "  NOT AVAILABLE\n",
            "openblas_lapack_info:\n",
            "    libraries = ['openblas', 'openblas']\n",
            "    library_dirs = ['/usr/local/lib']\n",
            "    language = c\n",
            "    define_macros = [('HAVE_CBLAS', None)]\n",
            "    runtime_library_dirs = ['/usr/local/lib']\n",
            "lapack_opt_info:\n",
            "    libraries = ['openblas', 'openblas']\n",
            "    library_dirs = ['/usr/local/lib']\n",
            "    language = c\n",
            "    define_macros = [('HAVE_CBLAS', None)]\n",
            "    runtime_library_dirs = ['/usr/local/lib']\n",
            "Supported SIMD extensions in this NumPy install:\n",
            "    baseline = SSE,SSE2,SSE3\n",
            "    found = SSSE3,SSE41,POPCNT,SSE42,AVX,F16C,FMA3,AVX2\n",
            "    not found = AVX512F,AVX512CD,AVX512_KNL,AVX512_KNM,AVX512_SKX,AVX512_CLX,AVX512_CNL,AVX512_ICL\n",
            "None\n"
          ]
        }
      ],
      "source": [
        "print(np.__version__)\n",
        "print(np.show_config())"
      ]
    },
    {
      "cell_type": "markdown",
      "metadata": {
        "id": "Za4lLrnRHTxS"
      },
      "source": [
        "#### 3. Create a null vector of size 10 (★☆☆) \n",
        "(**hint**: np.zeros)"
      ]
    },
    {
      "cell_type": "code",
      "execution_count": null,
      "metadata": {
        "id": "gfwHKuC4HTxT",
        "colab": {
          "base_uri": "https://localhost:8080/"
        },
        "outputId": "328a7def-61ad-4d50-ec15-b493bb2f7f1b"
      },
      "outputs": [
        {
          "output_type": "stream",
          "name": "stdout",
          "text": [
            "[0. 0. 0. 0. 0. 0. 0. 0. 0. 0.]\n"
          ]
        }
      ],
      "source": [
        "x=np.zeros(10)\n",
        "print(x)"
      ]
    },
    {
      "cell_type": "markdown",
      "metadata": {
        "id": "O87efJz_HTxU"
      },
      "source": [
        "#### 4.  How to find the memory size of any array (★☆☆) \n",
        "(**hint**: size, itemsize)"
      ]
    },
    {
      "cell_type": "code",
      "execution_count": null,
      "metadata": {
        "id": "Ql3MQfQaHTxV",
        "colab": {
          "base_uri": "https://localhost:8080/"
        },
        "outputId": "d7065b7f-c83b-464e-a1cb-c0c5c74d9c46"
      },
      "outputs": [
        {
          "output_type": "stream",
          "name": "stdout",
          "text": [
            "10\n",
            "8\n"
          ]
        }
      ],
      "source": [
        "print(x.size)\n",
        "print(x.itemsize)"
      ]
    },
    {
      "cell_type": "markdown",
      "metadata": {
        "id": "KSlibYqtHTxV"
      },
      "source": [
        "#### 5.  How to get the documentation of the numpy add function from the command line? (★☆☆) \n",
        "(**hint**: np.info)"
      ]
    },
    {
      "cell_type": "code",
      "execution_count": null,
      "metadata": {
        "collapsed": true,
        "id": "88PxYTlnHTxX",
        "colab": {
          "base_uri": "https://localhost:8080/"
        },
        "outputId": "5f496c60-b7fa-4810-9a27-e06d414180e0"
      },
      "outputs": [
        {
          "output_type": "stream",
          "name": "stdout",
          "text": [
            "add(x1, x2, /, out=None, *, where=True, casting='same_kind', order='K', dtype=None, subok=True[, signature, extobj])\n",
            "\n",
            "Add arguments element-wise.\n",
            "\n",
            "Parameters\n",
            "----------\n",
            "x1, x2 : array_like\n",
            "    The arrays to be added.\n",
            "    If ``x1.shape != x2.shape``, they must be broadcastable to a common\n",
            "    shape (which becomes the shape of the output).\n",
            "out : ndarray, None, or tuple of ndarray and None, optional\n",
            "    A location into which the result is stored. If provided, it must have\n",
            "    a shape that the inputs broadcast to. If not provided or None,\n",
            "    a freshly-allocated array is returned. A tuple (possible only as a\n",
            "    keyword argument) must have length equal to the number of outputs.\n",
            "where : array_like, optional\n",
            "    This condition is broadcast over the input. At locations where the\n",
            "    condition is True, the `out` array will be set to the ufunc result.\n",
            "    Elsewhere, the `out` array will retain its original value.\n",
            "    Note that if an uninitialized `out` array is created via the default\n",
            "    ``out=None``, locations within it where the condition is False will\n",
            "    remain uninitialized.\n",
            "**kwargs\n",
            "    For other keyword-only arguments, see the\n",
            "    :ref:`ufunc docs <ufuncs.kwargs>`.\n",
            "\n",
            "Returns\n",
            "-------\n",
            "add : ndarray or scalar\n",
            "    The sum of `x1` and `x2`, element-wise.\n",
            "    This is a scalar if both `x1` and `x2` are scalars.\n",
            "\n",
            "Notes\n",
            "-----\n",
            "Equivalent to `x1` + `x2` in terms of array broadcasting.\n",
            "\n",
            "Examples\n",
            "--------\n",
            ">>> np.add(1.0, 4.0)\n",
            "5.0\n",
            ">>> x1 = np.arange(9.0).reshape((3, 3))\n",
            ">>> x2 = np.arange(3.0)\n",
            ">>> np.add(x1, x2)\n",
            "array([[  0.,   2.,   4.],\n",
            "       [  3.,   5.,   7.],\n",
            "       [  6.,   8.,  10.]])\n",
            "\n",
            "The ``+`` operator can be used as a shorthand for ``np.add`` on ndarrays.\n",
            "\n",
            ">>> x1 = np.arange(9.0).reshape((3, 3))\n",
            ">>> x2 = np.arange(3.0)\n",
            ">>> x1 + x2\n",
            "array([[ 0.,  2.,  4.],\n",
            "       [ 3.,  5.,  7.],\n",
            "       [ 6.,  8., 10.]])\n"
          ]
        }
      ],
      "source": [
        "np.info(np.add)"
      ]
    },
    {
      "cell_type": "markdown",
      "metadata": {
        "id": "9dACdnjhHTxX"
      },
      "source": [
        "#### 6.  Create a null vector of size 10 but the fifth value which is 1 (★☆☆) \n",
        "(**hint**: array\\[4\\])"
      ]
    },
    {
      "cell_type": "code",
      "execution_count": null,
      "metadata": {
        "id": "7ZQkXcqBHTxY",
        "colab": {
          "base_uri": "https://localhost:8080/"
        },
        "outputId": "80c9b292-a30b-4285-ac21-5d03fbe12e4b"
      },
      "outputs": [
        {
          "output_type": "stream",
          "name": "stdout",
          "text": [
            "[0. 0. 0. 0. 1. 0. 0. 0. 0. 0.]\n"
          ]
        }
      ],
      "source": [
        "arr1=np.zeros(10)\n",
        "arr1[4]=1\n",
        "print(arr1)"
      ]
    },
    {
      "cell_type": "markdown",
      "metadata": {
        "id": "fGI2iG5gHTxZ"
      },
      "source": [
        "#### 7.  Create a vector with values ranging from 10 to 49 (★☆☆) \n",
        "(**hint**: np.arange)"
      ]
    },
    {
      "cell_type": "code",
      "execution_count": null,
      "metadata": {
        "id": "WE9NnvMVHTxb",
        "colab": {
          "base_uri": "https://localhost:8080/"
        },
        "outputId": "5362da51-1a1c-4d0e-c0d0-19357e72ec92"
      },
      "outputs": [
        {
          "output_type": "stream",
          "name": "stdout",
          "text": [
            "[10 11 12 13 14 15 16 17 18 19 20 21 22 23 24 25 26 27 28 29 30 31 32 33\n",
            " 34 35 36 37 38 39 40 41 42 43 44 45 46 47 48 49]\n"
          ]
        }
      ],
      "source": [
        "arr1=np.arange(10,50)\n",
        "print(arr1)"
      ]
    },
    {
      "cell_type": "markdown",
      "metadata": {
        "id": "BfWIYsDZHTxb"
      },
      "source": [
        "#### 8.  Reverse a vector (first element becomes last) (★☆☆) \n",
        "(**hint**: array\\[::-1\\])"
      ]
    },
    {
      "cell_type": "code",
      "execution_count": null,
      "metadata": {
        "id": "iWQkUew_HTxd",
        "colab": {
          "base_uri": "https://localhost:8080/"
        },
        "outputId": "bf80e36b-2329-4209-9be3-24d976b5bb32"
      },
      "outputs": [
        {
          "output_type": "execute_result",
          "data": {
            "text/plain": [
              "array([49, 48, 47, 46, 45, 44, 43, 42, 41, 40, 39, 38, 37, 36, 35, 34, 33,\n",
              "       32, 31, 30, 29, 28, 27, 26, 25, 24, 23, 22, 21, 20, 19, 18, 17, 16,\n",
              "       15, 14, 13, 12, 11, 10])"
            ]
          },
          "metadata": {},
          "execution_count": 9
        }
      ],
      "source": [
        "arr1[::-1]"
      ]
    },
    {
      "cell_type": "markdown",
      "metadata": {
        "id": "0YDQ26VsHTxe"
      },
      "source": [
        "#### 9.  Create a 3x3 matrix with values ranging from 0 to 8 (★☆☆) \n",
        "(**hint**: reshape)"
      ]
    },
    {
      "cell_type": "code",
      "execution_count": null,
      "metadata": {
        "id": "zjGsMb-4HTxf",
        "colab": {
          "base_uri": "https://localhost:8080/"
        },
        "outputId": "e2c1dfbe-9bd6-4e8e-ada3-df10024c7f7b"
      },
      "outputs": [
        {
          "output_type": "stream",
          "name": "stdout",
          "text": [
            "[[0 1 2]\n",
            " [3 4 5]\n",
            " [6 7 8]]\n"
          ]
        }
      ],
      "source": [
        "x=np.arange(0,9).reshape(3,3)\n",
        "print(x)"
      ]
    },
    {
      "cell_type": "markdown",
      "metadata": {
        "id": "EWrLc8VQHTxg"
      },
      "source": [
        "#### 10. Find indices of non-zero elements from \\[1,2,0,0,4,0\\] (★☆☆) \n",
        "(**hint**: np.nonzero)"
      ]
    },
    {
      "cell_type": "code",
      "execution_count": null,
      "metadata": {
        "id": "2Zy5V_5sHTxi",
        "colab": {
          "base_uri": "https://localhost:8080/"
        },
        "outputId": "fb51a031-23b1-4994-aced-a8623af2c24c"
      },
      "outputs": [
        {
          "output_type": "execute_result",
          "data": {
            "text/plain": [
              "(array([0, 1, 4]),)"
            ]
          },
          "metadata": {},
          "execution_count": 11
        }
      ],
      "source": [
        "x=np.array([1,2,0,0,4,0])\n",
        "np.nonzero(x)"
      ]
    },
    {
      "cell_type": "markdown",
      "metadata": {
        "id": "4yoHuF0KHTxk"
      },
      "source": [
        "#### 11. Create a 3x3 identity matrix (★☆☆) \n",
        "(**hint**: np.eye)"
      ]
    },
    {
      "cell_type": "code",
      "execution_count": null,
      "metadata": {
        "id": "fZQX7fSbHTxl",
        "colab": {
          "base_uri": "https://localhost:8080/"
        },
        "outputId": "0829c68f-a4d9-4b6a-d5d9-966c78d0b88d"
      },
      "outputs": [
        {
          "output_type": "stream",
          "name": "stdout",
          "text": [
            "[[1. 0. 0.]\n",
            " [0. 1. 0.]\n",
            " [0. 0. 1.]]\n"
          ]
        }
      ],
      "source": [
        "x=np.eye(3)\n",
        "print(x)"
      ]
    },
    {
      "cell_type": "markdown",
      "metadata": {
        "id": "KgKrLAarHTxm"
      },
      "source": [
        "#### 12. Create a 3x3x3 array with random values (★☆☆) \n",
        "(**hint**: np.random.random)"
      ]
    },
    {
      "cell_type": "code",
      "execution_count": null,
      "metadata": {
        "collapsed": true,
        "id": "hRAdYT4lHTxm",
        "colab": {
          "base_uri": "https://localhost:8080/"
        },
        "outputId": "a474cbe6-82ed-47b9-a843-5fd6c7cc1fad"
      },
      "outputs": [
        {
          "output_type": "stream",
          "name": "stdout",
          "text": [
            "[[[0.14801282 0.80662744 0.47684525]\n",
            "  [0.96118282 0.69724501 0.68759746]\n",
            "  [0.58566223 0.25265408 0.985905  ]]\n",
            "\n",
            " [[0.66616676 0.07078379 0.12217377]\n",
            "  [0.11504599 0.55498266 0.14236118]\n",
            "  [0.29071659 0.9644209  0.39723917]]\n",
            "\n",
            " [[0.34565211 0.95681911 0.00615902]\n",
            "  [0.36780898 0.91419075 0.93161738]\n",
            "  [0.95927222 0.24877802 0.91412309]]]\n"
          ]
        }
      ],
      "source": [
        "x=np.random.random((3,3,3))\n",
        "print(x)"
      ]
    },
    {
      "cell_type": "markdown",
      "metadata": {
        "id": "DFT5t4_5HTxn"
      },
      "source": [
        "#### 13. Create a 10x10 array with random values and find the minimum and maximum values (★☆☆) \n",
        "(**hint**: min, max)"
      ]
    },
    {
      "cell_type": "code",
      "execution_count": null,
      "metadata": {
        "id": "1z4rcLsWHTxn",
        "colab": {
          "base_uri": "https://localhost:8080/"
        },
        "outputId": "a5761be3-e75c-4eb4-c1ee-f5345f27e773"
      },
      "outputs": [
        {
          "output_type": "stream",
          "name": "stdout",
          "text": [
            "0.019806849613107858 0.9989187680208528\n"
          ]
        }
      ],
      "source": [
        "x=np.random.random((10,10))\n",
        "xmin,xmax=x.min(),x.max()\n",
        "print(xmin,xmax)"
      ]
    },
    {
      "cell_type": "markdown",
      "metadata": {
        "id": "wvA_xLPHHTxn"
      },
      "source": [
        "#### 14. Create a random vector of size 30 and find the mean value (★☆☆) \n",
        "(**hint**: mean)"
      ]
    },
    {
      "cell_type": "code",
      "execution_count": null,
      "metadata": {
        "id": "YR8bjUaIHTxo",
        "colab": {
          "base_uri": "https://localhost:8080/"
        },
        "outputId": "488da8ea-9752-4852-9b8e-8b768987b47e"
      },
      "outputs": [
        {
          "output_type": "execute_result",
          "data": {
            "text/plain": [
              "0.3628229003051894"
            ]
          },
          "metadata": {},
          "execution_count": 17
        }
      ],
      "source": [
        "x=np.random.random(10)\n",
        "np.mean(x)"
      ]
    },
    {
      "cell_type": "markdown",
      "metadata": {
        "id": "8waZ624KHTxo"
      },
      "source": [
        "#### 15. Create a 2d array with 1 on the border and 0 inside (★☆☆) \n",
        "(**hint**: array\\[1:-1, 1:-1\\])"
      ]
    },
    {
      "cell_type": "code",
      "execution_count": null,
      "metadata": {
        "id": "BoF_u49uHTxo",
        "colab": {
          "base_uri": "https://localhost:8080/"
        },
        "outputId": "5163d3fd-0095-47ff-e5f1-896b2cdb7daa"
      },
      "outputs": [
        {
          "output_type": "stream",
          "name": "stdout",
          "text": [
            "[[1. 1. 1. 1. 1.]\n",
            " [1. 0. 0. 0. 1.]\n",
            " [1. 0. 0. 0. 1.]\n",
            " [1. 0. 0. 0. 1.]\n",
            " [1. 1. 1. 1. 1.]]\n"
          ]
        }
      ],
      "source": [
        "x=np.ones((5,5))\n",
        "x[1:-1,1:-1]=0\n",
        "print(x)"
      ]
    },
    {
      "cell_type": "markdown",
      "metadata": {
        "id": "4z8FJs-6HTxo"
      },
      "source": [
        "#### 16. How to add a border (filled with 0's) around an existing array? (★☆☆) \n",
        "(**hint**: np.pad)"
      ]
    },
    {
      "cell_type": "code",
      "execution_count": null,
      "metadata": {
        "id": "fnfpi2-ZHTxp",
        "colab": {
          "base_uri": "https://localhost:8080/"
        },
        "outputId": "684b01f8-1e40-4e09-e0a9-87b807653bf0"
      },
      "outputs": [
        {
          "output_type": "stream",
          "name": "stdout",
          "text": [
            "[[0. 0. 0. 0. 0.]\n",
            " [0. 1. 1. 1. 0.]\n",
            " [0. 1. 1. 1. 0.]\n",
            " [0. 1. 1. 1. 0.]\n",
            " [0. 0. 0. 0. 0.]]\n"
          ]
        }
      ],
      "source": [
        "x=np.ones((3,3))\n",
        "x = np.pad(x, pad_width=1, mode='constant', constant_values=0)\n",
        "print(x)"
      ]
    },
    {
      "cell_type": "markdown",
      "metadata": {
        "id": "bCBU3mxsHTxp"
      },
      "source": [
        "#### 17. What is the result of the following expression? (★☆☆) \n",
        "(**hint**: NaN = not a number, inf = infinity)"
      ]
    },
    {
      "cell_type": "markdown",
      "metadata": {
        "id": "qD4xeYa2HTxq"
      },
      "source": [
        "```python\n",
        "0 * np.nan\n",
        "np.nan == np.nan\n",
        "np.inf > np.nan\n",
        "np.nan - np.nan\n",
        "0.3 == 3 * 0.1\n",
        "```"
      ]
    },
    {
      "cell_type": "code",
      "execution_count": null,
      "metadata": {
        "id": "M8AMBcv2HTxq"
      },
      "outputs": [],
      "source": [
        "false"
      ]
    },
    {
      "cell_type": "markdown",
      "metadata": {
        "id": "LmHRC2XlHTxq"
      },
      "source": [
        "#### 18. Create a 5x5 matrix with values 1,2,3,4 just below the diagonal (★☆☆) \n",
        "(**hint**: np.diag)"
      ]
    },
    {
      "cell_type": "code",
      "execution_count": null,
      "metadata": {
        "id": "dPSYD5p1HTxr",
        "colab": {
          "base_uri": "https://localhost:8080/"
        },
        "outputId": "cffbbe39-9349-4a6e-c068-068f5fe0a299"
      },
      "outputs": [
        {
          "output_type": "execute_result",
          "data": {
            "text/plain": [
              "array([[1, 0, 0, 0],\n",
              "       [0, 2, 0, 0],\n",
              "       [0, 0, 3, 0],\n",
              "       [0, 0, 0, 4]])"
            ]
          },
          "metadata": {},
          "execution_count": 21
        }
      ],
      "source": [
        "x=np.diag([1,2,3,4])\n",
        "x"
      ]
    },
    {
      "cell_type": "markdown",
      "metadata": {
        "id": "NduW53_iHTxr"
      },
      "source": [
        "#### 19. Create a 8x8 matrix and fill it with a checkerboard pattern (★☆☆) \n",
        "(**hint**: array\\[::2\\])"
      ]
    },
    {
      "cell_type": "code",
      "execution_count": null,
      "metadata": {
        "id": "orYB4Fh2HTxr",
        "colab": {
          "base_uri": "https://localhost:8080/"
        },
        "outputId": "7f5d0f93-35d0-4c28-f305-dc8f336d5d28"
      },
      "outputs": [
        {
          "output_type": "stream",
          "name": "stdout",
          "text": [
            "[[0 1 0 1 0 1 0 1]\n",
            " [1 0 1 0 1 0 1 0]\n",
            " [0 1 0 1 0 1 0 1]\n",
            " [1 0 1 0 1 0 1 0]\n",
            " [0 1 0 1 0 1 0 1]\n",
            " [1 0 1 0 1 0 1 0]\n",
            " [0 1 0 1 0 1 0 1]\n",
            " [1 0 1 0 1 0 1 0]]\n"
          ]
        }
      ],
      "source": [
        "x = np.zeros((8,8),dtype=int)\n",
        "x[1::2,::2] = 1\n",
        "x[::2,1::2] = 1\n",
        "print(x)"
      ]
    },
    {
      "cell_type": "markdown",
      "metadata": {
        "id": "gH35Kh8eHTxt"
      },
      "source": [
        "#### 20. Consider a (6,7,8) shape array, what is the index (x,y,z) of the 100th element? \n",
        "(**hint**: np.unravel_index)"
      ]
    },
    {
      "cell_type": "code",
      "execution_count": null,
      "metadata": {
        "id": "sm8sI-HTHTxu",
        "colab": {
          "base_uri": "https://localhost:8080/"
        },
        "outputId": "784fd464-ae5e-414b-8ad0-06ab20275d79"
      },
      "outputs": [
        {
          "output_type": "stream",
          "name": "stdout",
          "text": [
            "(1, 5, 4)\n"
          ]
        }
      ],
      "source": [
        "print (np.unravel_index(100, (6,7,8)))"
      ]
    },
    {
      "cell_type": "markdown",
      "metadata": {
        "id": "O8C9wJh9HTxu"
      },
      "source": [
        "#### 21. Create a checkerboard 8x8 matrix using the tile function (★☆☆) \n",
        "(**hint**: np.tile)"
      ]
    },
    {
      "cell_type": "code",
      "execution_count": null,
      "metadata": {
        "id": "Ha5IkY76HTxv",
        "colab": {
          "base_uri": "https://localhost:8080/"
        },
        "outputId": "3722e342-e096-4a42-9da5-39c2e23db604"
      },
      "outputs": [
        {
          "output_type": "stream",
          "name": "stdout",
          "text": [
            "[[0 1 0 1 0 1 0 1]\n",
            " [1 0 1 0 1 0 1 0]\n",
            " [0 1 0 1 0 1 0 1]\n",
            " [1 0 1 0 1 0 1 0]\n",
            " [0 1 0 1 0 1 0 1]\n",
            " [1 0 1 0 1 0 1 0]\n",
            " [0 1 0 1 0 1 0 1]\n",
            " [1 0 1 0 1 0 1 0]]\n"
          ]
        }
      ],
      "source": [
        "array= np.array([[0,1], [1,0]])\n",
        "Z = np.tile(array,(4,4))\n",
        "print (Z)"
      ]
    },
    {
      "cell_type": "markdown",
      "metadata": {
        "id": "qUsHUi3cHTxv"
      },
      "source": [
        "#### 22. Normalize a 5x5 random matrix (★☆☆) \n",
        "(**hint**: (x - min) / (max - min))"
      ]
    },
    {
      "cell_type": "code",
      "execution_count": null,
      "metadata": {
        "id": "8fpjV2uFHTxv",
        "colab": {
          "base_uri": "https://localhost:8080/"
        },
        "outputId": "6872545b-643d-45c3-9ff7-b365cc6f70af"
      },
      "outputs": [
        {
          "output_type": "stream",
          "name": "stdout",
          "text": [
            "[[0.23693985 0.80587045 0.70544965 0.96295272 0.09608932]\n",
            " [0.23871363 1.         0.         0.20674837 0.28037151]\n",
            " [0.08208041 0.42608936 0.67716259 0.37418071 0.76760251]\n",
            " [0.26814954 0.43816358 0.24153775 0.74932211 0.48829156]\n",
            " [0.39988431 0.82121222 0.52945969 0.3126     0.43481956]]\n"
          ]
        }
      ],
      "source": [
        "x = np.random.random((5,5))\n",
        "xmax, xmin = x.max(), x.min()\n",
        "x= (x-xmin)/(xmax-xmin)\n",
        "print (x)"
      ]
    },
    {
      "cell_type": "code",
      "source": [
        ""
      ],
      "metadata": {
        "id": "KvEyQz6YdEQy"
      },
      "execution_count": null,
      "outputs": []
    },
    {
      "cell_type": "markdown",
      "metadata": {
        "id": "fErQWheGHTxv"
      },
      "source": [
        "#### 23. Create a custom dtype that describes a color as four unsigned bytes (RGBA) (★☆☆) \n",
        "(**hint**: np.dtype)"
      ]
    },
    {
      "cell_type": "code",
      "execution_count": null,
      "metadata": {
        "id": "wEFe7RXiHTxw",
        "colab": {
          "base_uri": "https://localhost:8080/"
        },
        "outputId": "e391b9b2-ad53-4160-ed84-df7cbfc8f140"
      },
      "outputs": [
        {
          "output_type": "stream",
          "name": "stderr",
          "text": [
            "/usr/local/lib/python3.7/dist-packages/ipykernel_launcher.py:4: FutureWarning: Passing (type, 1) or '1type' as a synonym of type is deprecated; in a future version of numpy, it will be understood as (type, (1,)) / '(1,)type'.\n",
            "  after removing the cwd from sys.path.\n"
          ]
        }
      ],
      "source": [
        "color = np.dtype([(\"r\", np.ubyte, 1),\n",
        "                  (\"g\", np.ubyte, 1),\n",
        "                  (\"b\", np.ubyte, 1),\n",
        "                  (\"a\", np.ubyte, 1)])\n"
      ]
    },
    {
      "cell_type": "markdown",
      "metadata": {
        "id": "P_jHxGnIHTxw"
      },
      "source": [
        "#### 24. Multiply a 5x3 matrix by a 3x2 matrix (real matrix product) (★☆☆) \n",
        "(**hint**: np.dot | @)"
      ]
    },
    {
      "cell_type": "code",
      "execution_count": null,
      "metadata": {
        "id": "KfpuTImnHTxw",
        "colab": {
          "base_uri": "https://localhost:8080/"
        },
        "outputId": "e52e4aad-276d-4b1a-b096-5fdedb3bbf55"
      },
      "outputs": [
        {
          "output_type": "stream",
          "name": "stdout",
          "text": [
            "[[3. 3.]\n",
            " [3. 3.]\n",
            " [3. 3.]\n",
            " [3. 3.]\n",
            " [3. 3.]]\n"
          ]
        }
      ],
      "source": [
        "x= np.dot(np.ones((5,3)), np.ones((3,2)))\n",
        "print (x)"
      ]
    },
    {
      "cell_type": "code",
      "source": [
        ""
      ],
      "metadata": {
        "id": "2k6KJjA5vEmj"
      },
      "execution_count": null,
      "outputs": []
    },
    {
      "cell_type": "markdown",
      "metadata": {
        "id": "Zr8AX_jWHTxw"
      },
      "source": [
        "#### 25. Given a 1D array, negate all elements which are between 3 and 8, in place. (★☆☆) \n",
        "(**hint**: >, <=)"
      ]
    },
    {
      "cell_type": "code",
      "execution_count": null,
      "metadata": {
        "id": "0OdLdBfnHTxx"
      },
      "outputs": [],
      "source": [
        "x=np.arange(10)\n",
        "x[(x>=3) &(x<=8)]=-1"
      ]
    },
    {
      "cell_type": "markdown",
      "metadata": {
        "id": "DUJ6pN-HHTxx"
      },
      "source": [
        "#### 26. What is the output of the following script? (★☆☆) \n",
        "(**hint**: np.sum)"
      ]
    },
    {
      "cell_type": "markdown",
      "metadata": {
        "id": "nEJzyRmYHTxx"
      },
      "source": [
        "```python\n",
        "# Author: Jake VanderPlas\n",
        "\n",
        "print(sum(range(5),-1))\n",
        "from numpy import *\n",
        "print(sum(range(5),-1))\n",
        "```"
      ]
    },
    {
      "cell_type": "code",
      "execution_count": null,
      "metadata": {
        "id": "67EDl7ttHTxy"
      },
      "outputs": [],
      "source": [
        "9\n",
        "10"
      ]
    },
    {
      "cell_type": "markdown",
      "metadata": {
        "id": "NbjlcXISHTxy"
      },
      "source": [
        "#### 27. Consider an integer vector Z, which of these expressions are legal? (★☆☆)"
      ]
    },
    {
      "cell_type": "markdown",
      "metadata": {
        "id": "Q4HnSaOUHTxy"
      },
      "source": [
        "```python\n",
        "Z**Z\n",
        "2 << Z >> 2\n",
        "Z <- Z\n",
        "1j*Z\n",
        "Z/1/1\n",
        "Z<Z>Z\n",
        "```"
      ]
    },
    {
      "cell_type": "code",
      "execution_count": null,
      "metadata": {
        "id": "9jQtyIeYHTxy"
      },
      "outputs": [],
      "source": [
        ""
      ]
    },
    {
      "cell_type": "markdown",
      "metadata": {
        "id": "Wbz_T1O0HTxz"
      },
      "source": [
        "#### 28. What are the result of the following expressions?"
      ]
    },
    {
      "cell_type": "markdown",
      "metadata": {
        "id": "pOCikBAoHTxz"
      },
      "source": [
        "```python\n",
        "np.array(0) / np.array(0)\n",
        "np.array(0) // np.array(0)\n",
        "np.array([np.nan]).astype(int).astype(float)\n",
        "```"
      ]
    },
    {
      "cell_type": "code",
      "execution_count": null,
      "metadata": {
        "id": "KpFV48EWHTxz",
        "colab": {
          "base_uri": "https://localhost:8080/"
        },
        "outputId": "460045eb-384b-4015-a3e8-5f9e05e76664"
      },
      "outputs": [
        {
          "output_type": "stream",
          "name": "stderr",
          "text": [
            "/usr/local/lib/python3.7/dist-packages/ipykernel_launcher.py:1: RuntimeWarning: invalid value encountered in true_divide\n",
            "  \"\"\"Entry point for launching an IPython kernel.\n",
            "/usr/local/lib/python3.7/dist-packages/ipykernel_launcher.py:2: RuntimeWarning: divide by zero encountered in floor_divide\n",
            "  \n"
          ]
        },
        {
          "output_type": "execute_result",
          "data": {
            "text/plain": [
              "array([-9.22337204e+18])"
            ]
          },
          "metadata": {},
          "execution_count": 34
        }
      ],
      "source": [
        "np.array(0) / np.array(0)\n",
        "np.array(0) // np.array(0)\n",
        "np.array([np.nan]).astype(int).astype(float)\n"
      ]
    },
    {
      "cell_type": "markdown",
      "metadata": {
        "id": "UkPVm_0fHTxz"
      },
      "source": [
        "#### 29. How to round away from zero a float array ? (★☆☆) \n",
        "(**hint**: np.uniform, np.copysign, np.ceil, np.abs)"
      ]
    },
    {
      "cell_type": "code",
      "execution_count": null,
      "metadata": {
        "id": "fCzRuJGaHTx0",
        "colab": {
          "base_uri": "https://localhost:8080/"
        },
        "outputId": "ca9b4d93-ed20-405f-fc69-582d1b63dabc"
      },
      "outputs": [
        {
          "output_type": "stream",
          "name": "stdout",
          "text": [
            "[ 1.  6.  3. -3. -3. -1.  8. -6. -1. -4.]\n",
            "[ 1.  6.  3. -3. -3. -1.  8. -6. -1. -4.]\n"
          ]
        }
      ],
      "source": [
        "x=np.random.uniform(-10,+10,10)\n",
        "print(np.copysign(np.ceil(np.abs(x)),x))\n",
        "print(np.where(x>0,np.ceil(x),np.floor(x)))"
      ]
    },
    {
      "cell_type": "markdown",
      "metadata": {
        "id": "OtrYfFSwHTx0"
      },
      "source": [
        "#### 30. How to find common values between two arrays? (★☆☆) \n",
        "(**hint**: np.intersect1d)"
      ]
    },
    {
      "cell_type": "code",
      "execution_count": null,
      "metadata": {
        "id": "z-hoBUZaHTx0",
        "colab": {
          "base_uri": "https://localhost:8080/"
        },
        "outputId": "fafc8341-777b-4c92-a64a-6f75879238ef"
      },
      "outputs": [
        {
          "output_type": "stream",
          "name": "stdout",
          "text": [
            "[0 2 4 6 9]\n"
          ]
        }
      ],
      "source": [
        "x1=np.random.randint(0,10,10)\n",
        "x2=np.random.randint(0,10,10)\n",
        "print(np.intersect1d(x1,x2))"
      ]
    },
    {
      "cell_type": "markdown",
      "metadata": {
        "id": "_L50HqJIHTx0"
      },
      "source": [
        "#### 31. How to ignore all numpy warnings (not recommended)? (★☆☆) \n",
        "(**hint**: np.seterr, np.errstate)"
      ]
    },
    {
      "cell_type": "code",
      "execution_count": null,
      "metadata": {
        "id": "C5f6MY3EHTx1"
      },
      "outputs": [],
      "source": [
        "#suicide mode on\n",
        "defaults=np.seterr(all=\"ignore\")\n",
        "x=np.ones(1)/0\n",
        "x1=np.seterr(**defaults)\n",
        "#equivalently with context manager\n",
        "with np.errstate(all=\"ignore\"):\n",
        "  np.arange(3)/0\n"
      ]
    },
    {
      "cell_type": "markdown",
      "metadata": {
        "id": "tfWnM8ihHTx1"
      },
      "source": [
        "#### 32. Is the following expressions true? (★☆☆) \n",
        "(**hint**: imaginary number)"
      ]
    },
    {
      "cell_type": "markdown",
      "metadata": {
        "id": "wqozPeXbHTx1"
      },
      "source": [
        "```python\n",
        "np.sqrt(-1) == np.emath.sqrt(-1)\n",
        "```"
      ]
    },
    {
      "cell_type": "code",
      "execution_count": null,
      "metadata": {
        "id": "VJ-iVqnUHTx2",
        "colab": {
          "base_uri": "https://localhost:8080/"
        },
        "outputId": "328aef0a-1581-4140-ea79-c20b1ad55c3a"
      },
      "outputs": [
        {
          "output_type": "execute_result",
          "data": {
            "text/plain": [
              "False"
            ]
          },
          "metadata": {},
          "execution_count": 9
        }
      ],
      "source": [
        "#they are not equal\n",
        "#A=np.sqrt(-1)    # ans=1j\n",
        "#B=np.emath.sqrt(-1)     # ans=nan\n",
        "#A!=B\n",
        "np.sqrt(-1)==np.emath.sqrt(-1)"
      ]
    },
    {
      "cell_type": "markdown",
      "metadata": {
        "id": "iJG0b929HTx2"
      },
      "source": [
        "#### 33. How to get the dates of yesterday, today and tomorrow? (★☆☆) \n",
        "(**hint**: np.datetime64, np.timedelta64)"
      ]
    },
    {
      "cell_type": "code",
      "execution_count": null,
      "metadata": {
        "collapsed": true,
        "id": "tpCHtfGwHTx2",
        "colab": {
          "base_uri": "https://localhost:8080/"
        },
        "outputId": "66f6d547-ad36-4fb3-885a-021f9e4e4cb7"
      },
      "outputs": [
        {
          "output_type": "stream",
          "name": "stdout",
          "text": [
            "2022-08-17\n",
            "2022-08-18\n",
            "2022-08-19\n"
          ]
        }
      ],
      "source": [
        "yesterday=np.datetime64(\"today\")-np.timedelta64(1)\n",
        "today=np.datetime64(\"today\")\n",
        "tomorrow=np.datetime64(\"today\")+np.timedelta64(1)\n",
        "print(yesterday)\n",
        "print(today)\n",
        "print(tomorrow)\n"
      ]
    },
    {
      "cell_type": "markdown",
      "metadata": {
        "id": "iYWWTxLBHTx2"
      },
      "source": [
        "#### 34. How to get all the dates corresponding to the month of July 2016? (★★☆) \n",
        "(**hint**: np.arange(dtype=datetime64\\['D'\\]))"
      ]
    },
    {
      "cell_type": "code",
      "execution_count": null,
      "metadata": {
        "id": "TuYjWRRtHTx3",
        "colab": {
          "base_uri": "https://localhost:8080/"
        },
        "outputId": "b3926520-f943-429c-9eb3-00349edffdfa"
      },
      "outputs": [
        {
          "output_type": "stream",
          "name": "stdout",
          "text": [
            "['2016-07-01' '2016-07-02' '2016-07-03' '2016-07-04' '2016-07-05'\n",
            " '2016-07-06' '2016-07-07' '2016-07-08' '2016-07-09' '2016-07-10'\n",
            " '2016-07-11' '2016-07-12' '2016-07-13' '2016-07-14' '2016-07-15'\n",
            " '2016-07-16' '2016-07-17' '2016-07-18' '2016-07-19' '2016-07-20'\n",
            " '2016-07-21' '2016-07-22' '2016-07-23' '2016-07-24' '2016-07-25'\n",
            " '2016-07-26' '2016-07-27' '2016-07-28' '2016-07-29' '2016-07-30'\n",
            " '2016-07-31']\n"
          ]
        }
      ],
      "source": [
        "x=np.arange(\"2016-07\",\"2016-08\",dtype=\"datetime64[D]\")\n",
        "print(x)"
      ]
    },
    {
      "cell_type": "markdown",
      "metadata": {
        "id": "9XsSX27yHTx3"
      },
      "source": [
        "#### 35. How to compute ((A+B)\\*(-A/2)) in place (without copy)? (★★☆) \n",
        "(**hint**: np.add(out=), np.negative(out=), np.multiply(out=), np.divide(out=))"
      ]
    },
    {
      "cell_type": "code",
      "execution_count": null,
      "metadata": {
        "id": "WqBNzS_AHTx4",
        "colab": {
          "base_uri": "https://localhost:8080/"
        },
        "outputId": "09f72b84-8531-41b5-c491-f82c09d123e3"
      },
      "outputs": [
        {
          "output_type": "execute_result",
          "data": {
            "text/plain": [
              "array([-3., -3., -3.])"
            ]
          },
          "metadata": {},
          "execution_count": 16
        }
      ],
      "source": [
        "A=np.ones(3)*1\n",
        "B=np.ones(3)*2\n",
        "np.add(A,B,out=A)\n",
        "np.divide(A,2,out=A)\n",
        "np.negative(A,out=A)\n",
        "np.multiply(A,B,out=A)"
      ]
    },
    {
      "cell_type": "markdown",
      "metadata": {
        "id": "8idrPMn1HTx4"
      },
      "source": [
        "#### 36. Extract the integer part of a random array using 5 different methods (★★☆) \n",
        "(**hint**: %, np.floor, np.ceil, astype, np.trunc)"
      ]
    },
    {
      "cell_type": "code",
      "execution_count": null,
      "metadata": {
        "id": "k0JG37yeHTx5",
        "colab": {
          "base_uri": "https://localhost:8080/"
        },
        "outputId": "93eb6b9a-b510-43ce-a2bf-116eddfde728"
      },
      "outputs": [
        {
          "output_type": "stream",
          "name": "stdout",
          "text": [
            "[1. 9. 9. 5. 1. 9. 0. 1. 2. 3.]\n",
            "[1. 9. 9. 5. 1. 9. 0. 1. 2. 3.]\n",
            "[1. 9. 9. 5. 1. 9. 0. 1. 2. 3.]\n",
            "[1 9 9 5 1 9 0 1 2 3]\n",
            "[1. 9. 9. 5. 1. 9. 0. 1. 2. 3.]\n"
          ]
        }
      ],
      "source": [
        "X=np.random.uniform(0,10,10)\n",
        "\n",
        "#5 diferent ways\n",
        "print(X-X%1)\n",
        "print(X//1)\n",
        "print(np.floor(X))\n",
        "print(X.astype(int))\n",
        "print(np.trunc(X))"
      ]
    },
    {
      "cell_type": "markdown",
      "metadata": {
        "id": "YHIrvxcWHTx5"
      },
      "source": [
        "#### 37. Create a 5x5 matrix with row values ranging from 0 to 4 (★★☆) \n",
        "(**hint**: np.arange)"
      ]
    },
    {
      "cell_type": "code",
      "source": [
        "X=np.tile(np.arange(0,5),(5,1))\n",
        "print(X)"
      ],
      "metadata": {
        "colab": {
          "base_uri": "https://localhost:8080/"
        },
        "id": "Jc7TYKPGkExe",
        "outputId": "2f2e83a1-5da2-4d2d-bc94-0fce500411ec"
      },
      "execution_count": null,
      "outputs": [
        {
          "output_type": "stream",
          "name": "stdout",
          "text": [
            "[[0 1 2 3 4]\n",
            " [0 1 2 3 4]\n",
            " [0 1 2 3 4]\n",
            " [0 1 2 3 4]\n",
            " [0 1 2 3 4]]\n"
          ]
        }
      ]
    },
    {
      "cell_type": "code",
      "execution_count": null,
      "metadata": {
        "id": "CJXmaJFTHTx5",
        "colab": {
          "base_uri": "https://localhost:8080/"
        },
        "outputId": "32a5cced-b335-4019-96b7-aca5e886381c"
      },
      "outputs": [
        {
          "output_type": "stream",
          "name": "stdout",
          "text": [
            "[[0. 1. 2. 3. 4.]\n",
            " [0. 1. 2. 3. 4.]\n",
            " [0. 1. 2. 3. 4.]\n",
            " [0. 1. 2. 3. 4.]\n",
            " [0. 1. 2. 3. 4.]]\n"
          ]
        }
      ],
      "source": [
        "X=np.zeros((5,5))\n",
        "X+=np.arange(5)\n",
        "print(X)"
      ]
    },
    {
      "cell_type": "markdown",
      "metadata": {
        "id": "iVMKss75HTx6"
      },
      "source": [
        "#### 38. Consider a generator function that generates 10 integers and use it to build an array (★☆☆) \n",
        "(**hint**: np.fromiter)"
      ]
    },
    {
      "cell_type": "code",
      "execution_count": null,
      "metadata": {
        "id": "sv_hqY9OHTx6",
        "colab": {
          "base_uri": "https://localhost:8080/"
        },
        "outputId": "d203ff61-d5d6-4c08-9871-fca908052488"
      },
      "outputs": [
        {
          "output_type": "stream",
          "name": "stdout",
          "text": [
            "[0. 1. 2. 3. 4. 5. 6. 7. 8. 9.]\n"
          ]
        }
      ],
      "source": [
        "def generator():\n",
        "  for x in range(10):\n",
        "    yield x\n",
        "X=np.fromiter(generator(),dtype=float,count=-1)\n",
        "print(X)"
      ]
    },
    {
      "cell_type": "markdown",
      "metadata": {
        "id": "nOWjThN8HTx9"
      },
      "source": [
        "#### 39. Create a vector of size 10 with values ranging from 0 to 1, both excluded (★★☆) \n",
        "(**hint**: np.linspace)"
      ]
    },
    {
      "cell_type": "code",
      "execution_count": null,
      "metadata": {
        "id": "8K2mZtr3HTx9",
        "colab": {
          "base_uri": "https://localhost:8080/"
        },
        "outputId": "3c4aad6a-41d6-4a46-e29e-3c6286c0fe6b"
      },
      "outputs": [
        {
          "output_type": "stream",
          "name": "stdout",
          "text": [
            "[0.09090909 0.18181818 0.27272727 0.36363636 0.45454545 0.54545455\n",
            " 0.63636364 0.72727273 0.81818182 0.90909091]\n"
          ]
        }
      ],
      "source": [
        "X=np.linspace(0,1,11,endpoint=False)[1:]\n",
        "print(X)"
      ]
    },
    {
      "cell_type": "markdown",
      "metadata": {
        "id": "yZ0-k3EoHTx-"
      },
      "source": [
        "#### 40. Create a random vector of size 10 and sort it (★★☆) \n",
        "(**hint**: sort)"
      ]
    },
    {
      "cell_type": "code",
      "execution_count": null,
      "metadata": {
        "id": "9gtbOMgoHTx-",
        "colab": {
          "base_uri": "https://localhost:8080/"
        },
        "outputId": "6932b2f1-6569-4a02-9407-620da4a2715a"
      },
      "outputs": [
        {
          "output_type": "stream",
          "name": "stdout",
          "text": [
            "[0.1439594  0.35081228 0.40405044 0.41421826 0.55262783 0.61928739\n",
            " 0.66544879 0.79976388 0.83000516 0.98156763]\n"
          ]
        }
      ],
      "source": [
        "X=np.random.random(10)\n",
        "X.sort()\n",
        "print(X)"
      ]
    },
    {
      "cell_type": "markdown",
      "metadata": {
        "id": "heJWp_qrHTx-"
      },
      "source": [
        "#### 41. How to sum a small array faster than np.sum? (★★☆) \n",
        "(**hint**: np.add.reduce)"
      ]
    },
    {
      "cell_type": "code",
      "execution_count": null,
      "metadata": {
        "id": "mChMQNoGHTx-",
        "colab": {
          "base_uri": "https://localhost:8080/"
        },
        "outputId": "9833d414-bc0a-4937-fba3-7c15d9227fed"
      },
      "outputs": [
        {
          "output_type": "execute_result",
          "data": {
            "text/plain": [
              "45"
            ]
          },
          "metadata": {},
          "execution_count": 29
        }
      ],
      "source": [
        "X=np.arange(10)\n",
        "np.add.reduce(X)"
      ]
    },
    {
      "cell_type": "markdown",
      "metadata": {
        "id": "HjeInp_gHTx_"
      },
      "source": [
        "#### 42. Consider two random array A and B, check if they are equal (★★☆) \n",
        "(**hint**: np.allclose, np.array\\_equal)"
      ]
    },
    {
      "cell_type": "code",
      "execution_count": null,
      "metadata": {
        "id": "27LOBbamHTx_",
        "colab": {
          "base_uri": "https://localhost:8080/"
        },
        "outputId": "a044aa6d-3ca6-4687-f553-f9debb58bfc9"
      },
      "outputs": [
        {
          "output_type": "stream",
          "name": "stdout",
          "text": [
            "False\n",
            "False\n"
          ]
        }
      ],
      "source": [
        "X=np.random.randint(0,2,5)\n",
        "Y=np.random.randint(0,2,5)\n",
        "#comparison of value\n",
        "equal=np.allclose(A,B)\n",
        "print(equal)\n",
        "#checking both the shape and the value ,no tolerance(value shuld be exactly equal)\n",
        "equal=np.array_equal(A,B)\n",
        "print(equal)"
      ]
    },
    {
      "cell_type": "markdown",
      "metadata": {
        "id": "Ztw0qosNHTx_"
      },
      "source": [
        "#### 43. Make an array immutable (read-only) (★★☆) \n",
        "(**hint**: flags.writeable)"
      ]
    },
    {
      "cell_type": "code",
      "execution_count": 3,
      "metadata": {
        "id": "Q2mba5E6HTx_",
        "colab": {
          "base_uri": "https://localhost:8080/",
          "height": 200
        },
        "outputId": "01439350-d69f-4eb8-d910-57e8d51b9d76"
      },
      "outputs": [
        {
          "output_type": "error",
          "ename": "ValueError",
          "evalue": "ignored",
          "traceback": [
            "\u001b[0;31m---------------------------------------------------------------------------\u001b[0m",
            "\u001b[0;31mValueError\u001b[0m                                Traceback (most recent call last)",
            "\u001b[0;32m<ipython-input-3-20dd8f196077>\u001b[0m in \u001b[0;36m<module>\u001b[0;34m\u001b[0m\n\u001b[1;32m      1\u001b[0m \u001b[0mX\u001b[0m\u001b[0;34m=\u001b[0m\u001b[0mnp\u001b[0m\u001b[0;34m.\u001b[0m\u001b[0mzeros\u001b[0m\u001b[0;34m(\u001b[0m\u001b[0;36m10\u001b[0m\u001b[0;34m)\u001b[0m\u001b[0;34m\u001b[0m\u001b[0;34m\u001b[0m\u001b[0m\n\u001b[1;32m      2\u001b[0m \u001b[0mX\u001b[0m\u001b[0;34m.\u001b[0m\u001b[0mflags\u001b[0m\u001b[0;34m.\u001b[0m\u001b[0mwriteable\u001b[0m\u001b[0;34m=\u001b[0m\u001b[0;32mFalse\u001b[0m\u001b[0;34m\u001b[0m\u001b[0;34m\u001b[0m\u001b[0m\n\u001b[0;32m----> 3\u001b[0;31m \u001b[0mX\u001b[0m\u001b[0;34m[\u001b[0m\u001b[0;36m0\u001b[0m\u001b[0;34m]\u001b[0m \u001b[0;34m=\u001b[0m \u001b[0;36m1\u001b[0m\u001b[0;34m\u001b[0m\u001b[0;34m\u001b[0m\u001b[0m\n\u001b[0m",
            "\u001b[0;31mValueError\u001b[0m: assignment destination is read-only"
          ]
        }
      ],
      "source": [
        "X=np.zeros(10)\n",
        "X.flags.writeable=False\n",
        "X[0] = 1"
      ]
    },
    {
      "cell_type": "markdown",
      "metadata": {
        "id": "xvOvWKHfHTyA"
      },
      "source": [
        "#### 44. Consider a random 10x2 matrix representing cartesian coordinates, convert them to polar coordinates (★★☆) \n",
        "(**hint**: np.sqrt, np.arctan2)"
      ]
    },
    {
      "cell_type": "code",
      "execution_count": null,
      "metadata": {
        "id": "18Ki0S82HTyA",
        "colab": {
          "base_uri": "https://localhost:8080/"
        },
        "outputId": "73724d9c-87d1-4850-8cc2-4c0ad7ba7df3"
      },
      "outputs": [
        {
          "output_type": "stream",
          "name": "stdout",
          "text": [
            "[0.947352   1.08916529 0.80683022 0.8560712  0.31212099 0.58981138\n",
            " 1.09276997 0.82487602 0.64386131 0.8515923 ]\n",
            "[0.97161137 1.08338581 0.19156387 1.35593126 0.408403   0.9288687\n",
            " 0.65252491 1.04792993 0.35744765 1.24244207]\n"
          ]
        }
      ],
      "source": [
        "X=np.random.random((10,2))\n",
        "m,n=X[:,0],X[:,1]\n",
        "A=np.sqrt(m**2+n**2)\n",
        "B=np.arctan2(n,m)\n",
        "print(A)\n",
        "print(B)\n"
      ]
    },
    {
      "cell_type": "markdown",
      "metadata": {
        "id": "oWvbFPQKHTyA"
      },
      "source": [
        "#### 45. Create random vector of size 10 and replace the maximum value by 0 (★★☆) \n",
        "(**hint**: argmax)"
      ]
    },
    {
      "cell_type": "code",
      "execution_count": null,
      "metadata": {
        "id": "C72m7up6HTyA",
        "colab": {
          "base_uri": "https://localhost:8080/"
        },
        "outputId": "dbd7442f-f981-4060-fbfc-aa3e2d5f55be"
      },
      "outputs": [
        {
          "output_type": "stream",
          "name": "stdout",
          "text": [
            "[0.         0.15319625 0.34703366 0.70204951 0.78318957 0.20616058\n",
            " 0.21821138 0.00565326 0.04576242 0.40215444]\n"
          ]
        }
      ],
      "source": [
        "X=np.random.random(10)\n",
        "X[X.argmax()]=0\n",
        "print(X)"
      ]
    },
    {
      "cell_type": "markdown",
      "metadata": {
        "id": "z00UkwE5HTyB"
      },
      "source": [
        "#### 46. Create a structured array with `x` and `y` coordinates covering the \\[0,1\\]x\\[0,1\\] area (★★☆) \n",
        "(**hint**: np.meshgrid)"
      ]
    },
    {
      "cell_type": "code",
      "execution_count": null,
      "metadata": {
        "id": "6L6mTNubHTyB",
        "colab": {
          "base_uri": "https://localhost:8080/"
        },
        "outputId": "729bfada-fd1e-47a0-8bdd-23694d4b7f57"
      },
      "outputs": [
        {
          "output_type": "stream",
          "name": "stdout",
          "text": [
            "[[(0.  , 0.  ) (0.25, 0.  ) (0.5 , 0.  ) (0.75, 0.  ) (1.  , 0.  )]\n",
            " [(0.  , 0.25) (0.25, 0.25) (0.5 , 0.25) (0.75, 0.25) (1.  , 0.25)]\n",
            " [(0.  , 0.5 ) (0.25, 0.5 ) (0.5 , 0.5 ) (0.75, 0.5 ) (1.  , 0.5 )]\n",
            " [(0.  , 0.75) (0.25, 0.75) (0.5 , 0.75) (0.75, 0.75) (1.  , 0.75)]\n",
            " [(0.  , 1.  ) (0.25, 1.  ) (0.5 , 1.  ) (0.75, 1.  ) (1.  , 1.  )]]\n"
          ]
        }
      ],
      "source": [
        "X=np.zeros((5,5),[(\"x\",float),(\"y\",float)])\n",
        "X[\"x\"],X[\"y\"]=np.meshgrid(np.linspace(0,1,5),np.linspace(0,1,5))\n",
        "print(X)"
      ]
    },
    {
      "cell_type": "markdown",
      "metadata": {
        "id": "We6215N7HTyB"
      },
      "source": [
        "####  47. Given two arrays, X and Y, construct the Cauchy matrix C (Cij =1/(xi - yj)) \n",
        "(**hint**: np.subtract.outer)"
      ]
    },
    {
      "cell_type": "code",
      "execution_count": null,
      "metadata": {
        "id": "zCE5wRCiHTyB",
        "colab": {
          "base_uri": "https://localhost:8080/"
        },
        "outputId": "ffa5f2b2-4732-40d9-e027-38293346d951"
      },
      "outputs": [
        {
          "output_type": "stream",
          "name": "stdout",
          "text": [
            "3638.163637117973\n"
          ]
        }
      ],
      "source": [
        "X=np.arange(8)\n",
        "Y=X+0.5\n",
        "C=1.0/np.subtract.outer(X,Y)\n",
        "print(np.linalg.det(C))\n"
      ]
    },
    {
      "cell_type": "markdown",
      "metadata": {
        "id": "hq072P_BHTyB"
      },
      "source": [
        "#### 48. Print the minimum and maximum representable value for each numpy scalar type (★★☆) \n",
        "(**hint**: np.iinfo, np.finfo, eps)"
      ]
    },
    {
      "cell_type": "code",
      "execution_count": null,
      "metadata": {
        "id": "KO6qOBjOHTyC",
        "colab": {
          "base_uri": "https://localhost:8080/"
        },
        "outputId": "943d5896-4574-4b54-853e-7d4cfabd75bc"
      },
      "outputs": [
        {
          "output_type": "stream",
          "name": "stdout",
          "text": [
            "-128\n",
            "127\n",
            "-2147483648\n",
            "2147483647\n",
            "-9223372036854775808\n",
            "9223372036854775807\n",
            "-3.4028235e+38\n",
            "3.4028235e+38\n",
            "1.1920929e-07\n",
            "-1.7976931348623157e+308\n",
            "1.7976931348623157e+308\n",
            "2.220446049250313e-16\n"
          ]
        }
      ],
      "source": [
        "for x in [np.int8,np.int32,np.int64]:\n",
        "  print(np.iinfo(x).min)\n",
        "  print(np.iinfo(x).max)\n",
        "for x in [np.float32,np.float64]:\n",
        "  print(np.finfo(x).min)\n",
        "  print(np.finfo(x).max)\n",
        "  print(np.finfo(x).eps)"
      ]
    },
    {
      "cell_type": "markdown",
      "metadata": {
        "id": "b38y18MOHTyD"
      },
      "source": [
        "#### 49. How to print all the values of an array? (★★☆) \n",
        "(**hint**: np.set\\_printoptions)"
      ]
    },
    {
      "cell_type": "code",
      "execution_count": null,
      "metadata": {
        "id": "ssvLjOihHTyD",
        "colab": {
          "base_uri": "https://localhost:8080/"
        },
        "outputId": "7487c32f-cb8f-4aba-92a8-10e0a6473e4f"
      },
      "outputs": [
        {
          "output_type": "stream",
          "name": "stdout",
          "text": [
            "[[0. 0. 0. 0. 0. 0. 0. 0. 0. 0.]\n",
            " [0. 0. 0. 0. 0. 0. 0. 0. 0. 0.]\n",
            " [0. 0. 0. 0. 0. 0. 0. 0. 0. 0.]\n",
            " [0. 0. 0. 0. 0. 0. 0. 0. 0. 0.]\n",
            " [0. 0. 0. 0. 0. 0. 0. 0. 0. 0.]\n",
            " [0. 0. 0. 0. 0. 0. 0. 0. 0. 0.]\n",
            " [0. 0. 0. 0. 0. 0. 0. 0. 0. 0.]\n",
            " [0. 0. 0. 0. 0. 0. 0. 0. 0. 0.]\n",
            " [0. 0. 0. 0. 0. 0. 0. 0. 0. 0.]\n",
            " [0. 0. 0. 0. 0. 0. 0. 0. 0. 0.]]\n"
          ]
        }
      ],
      "source": [
        "np.set_printoptions(threshold=float(\"inf\"))\n",
        "X=np.zeros((10,10))\n",
        "print(X)"
      ]
    },
    {
      "cell_type": "markdown",
      "metadata": {
        "id": "e2dH9Gu9HTyE"
      },
      "source": [
        "#### 50. How to find the closest value (to a given scalar) in a vector? (★★☆) \n",
        "(**hint**: argmin)"
      ]
    },
    {
      "cell_type": "code",
      "execution_count": null,
      "metadata": {
        "id": "zaQs4FHuHTyE",
        "colab": {
          "base_uri": "https://localhost:8080/"
        },
        "outputId": "0fefe9ee-b56a-41ac-fed4-7abbb41654cd"
      },
      "outputs": [
        {
          "output_type": "stream",
          "name": "stdout",
          "text": [
            "56\n"
          ]
        }
      ],
      "source": [
        "Z=np.arange(100)\n",
        "V=np.random.uniform(0,100)\n",
        "index=(np.abs(Z-V)).argmin()\n",
        "print(Z[index])"
      ]
    },
    {
      "cell_type": "markdown",
      "metadata": {
        "id": "jFqtdaRrHTyE"
      },
      "source": [
        "#### 51. Create a structured array representing a position (x,y) and a color (r,g,b) (★★☆) \n",
        "(**hint**: dtype)"
      ]
    },
    {
      "cell_type": "code",
      "execution_count": null,
      "metadata": {
        "id": "Tgl2X9AiHTyE",
        "colab": {
          "base_uri": "https://localhost:8080/"
        },
        "outputId": "6ae61cc6-6094-45ec-842d-c18cf1d7eda8"
      },
      "outputs": [
        {
          "output_type": "stream",
          "name": "stdout",
          "text": [
            "[((0., 0.), (0., 0., 0.)) ((0., 0.), (0., 0., 0.))\n",
            " ((0., 0.), (0., 0., 0.)) ((0., 0.), (0., 0., 0.))\n",
            " ((0., 0.), (0., 0., 0.)) ((0., 0.), (0., 0., 0.))\n",
            " ((0., 0.), (0., 0., 0.)) ((0., 0.), (0., 0., 0.))\n",
            " ((0., 0.), (0., 0., 0.)) ((0., 0.), (0., 0., 0.))]\n"
          ]
        },
        {
          "output_type": "stream",
          "name": "stderr",
          "text": [
            "/usr/local/lib/python3.7/dist-packages/ipykernel_launcher.py:1: FutureWarning: Passing (type, 1) or '1type' as a synonym of type is deprecated; in a future version of numpy, it will be understood as (type, (1,)) / '(1,)type'.\n",
            "  \"\"\"Entry point for launching an IPython kernel.\n"
          ]
        }
      ],
      "source": [
        "Z=np.zeros(10,[('postion',[('x',float,1),('y',float,1)]),('color',[('r',float,1),('g',float,1),('b',float,1)])])\n",
        "print(Z)"
      ]
    },
    {
      "cell_type": "markdown",
      "metadata": {
        "id": "Rcrk9EgrHTyF"
      },
      "source": [
        "#### 52. Consider a random vector with shape (100,2) representing coordinates, find point by point distances (★★☆) \n",
        "(**hint**: np.atleast\\_2d, T, np.sqrt)"
      ]
    },
    {
      "cell_type": "code",
      "execution_count": null,
      "metadata": {
        "id": "wU5j22CcHTyF",
        "colab": {
          "base_uri": "https://localhost:8080/"
        },
        "outputId": "2b92f93b-a121-469b-ffd3-ea7da15486c1"
      },
      "outputs": [
        {
          "output_type": "stream",
          "name": "stdout",
          "text": [
            "[[0.         0.68576093 0.39458422 0.21446511 0.16804573 0.22933317\n",
            "  0.32202947 0.70320278 0.21262847 0.45225394]\n",
            " [0.68576093 0.         1.0453418  0.88812182 0.60102487 0.66140245\n",
            "  0.44585964 0.64077492 0.84647057 0.6277849 ]\n",
            " [0.39458422 1.0453418  0.         0.1849539  0.44514936 0.40315575\n",
            "  0.71655714 0.83389473 0.19905961 0.58178572]\n",
            " [0.21446511 0.88812182 0.1849539  0.         0.30365562 0.29612166\n",
            "  0.53463997 0.77980624 0.0899179  0.51644747]\n",
            " [0.16804573 0.60102487 0.44514936 0.30365562 0.         0.09370118\n",
            "  0.35079432 0.53523126 0.24740188 0.28796792]\n",
            " [0.22933317 0.66140245 0.40315575 0.29612166 0.09370118 0.\n",
            "  0.44411262 0.49265292 0.21923727 0.23153597]\n",
            " [0.32202947 0.44585964 0.71655714 0.53463997 0.35079432 0.44411262\n",
            "  0.         0.75678788 0.53052146 0.57734592]\n",
            " [0.70320278 0.64077492 0.83389473 0.77980624 0.53523126 0.49265292\n",
            "  0.75678788 0.         0.69343678 0.26348379]\n",
            " [0.21262847 0.84647057 0.19905961 0.0899179  0.24740188 0.21923727\n",
            "  0.53052146 0.69343678 0.         0.43069385]\n",
            " [0.45225394 0.6277849  0.58178572 0.51644747 0.28796792 0.23153597\n",
            "  0.57734592 0.26348379 0.43069385 0.        ]]\n"
          ]
        }
      ],
      "source": [
        "A=np.random.random((10,2))\n",
        "M,N=np.atleast_2d(A[:,0],A[:,1])\n",
        "B=np.sqrt((M-M.T)**2+(N-N.T)**2)\n",
        "print(B)"
      ]
    },
    {
      "cell_type": "markdown",
      "metadata": {
        "id": "dLiVdLxfHTyF"
      },
      "source": [
        "#### 53. How to convert a float (32 bits) array into an integer (32 bits) in place? \n",
        "(**hint**: astype(copy=False))"
      ]
    },
    {
      "cell_type": "code",
      "execution_count": null,
      "metadata": {
        "id": "BRWe_kydHTyF",
        "colab": {
          "base_uri": "https://localhost:8080/"
        },
        "outputId": "5ded6a15-f9bc-4a6a-ffb5-cfd05ab72c5b"
      },
      "outputs": [
        {
          "output_type": "stream",
          "name": "stdout",
          "text": [
            "[ 2 99 78 11 89 48 40 35 25 83]\n"
          ]
        }
      ],
      "source": [
        "A=(np.random.rand(10)*100).astype(np.float32)\n",
        "B=A.view(np.int32)\n",
        "B[:]=A\n",
        "print(B)"
      ]
    },
    {
      "cell_type": "markdown",
      "metadata": {
        "id": "cRRKOGyyHTyG"
      },
      "source": [
        "#### 54. How to read the following file? (★★☆) \n",
        "(**hint**: np.genfromtxt)"
      ]
    },
    {
      "cell_type": "markdown",
      "metadata": {
        "id": "oCDot2tqHTyG"
      },
      "source": [
        "```\n",
        "1, 2, 3, 4, 5\n",
        "6,  ,  , 7, 8\n",
        " ,  , 9,10,11\n",
        "```"
      ]
    },
    {
      "cell_type": "code",
      "execution_count": null,
      "metadata": {
        "id": "lg2Y4WM-HTyG",
        "colab": {
          "base_uri": "https://localhost:8080/",
          "height": 463
        },
        "outputId": "7e1076b8-4647-40c2-ecf4-c5e7adb395c1"
      },
      "outputs": [
        {
          "output_type": "stream",
          "name": "stderr",
          "text": [
            "/usr/local/lib/python3.7/dist-packages/ipykernel_launcher.py:6: DeprecationWarning: `np.int` is a deprecated alias for the builtin `int`. To silence this warning, use `int` by itself. Doing this will not modify any behavior and is safe. When replacing `np.int`, you may wish to use e.g. `np.int64` or `np.int32` to specify the precision. If you wish to review your current use, check the release note link for additional information.\n",
            "Deprecated in NumPy 1.20; for more details and guidance: https://numpy.org/devdocs/release/1.20.0-notes.html#deprecations\n",
            "  \n"
          ]
        },
        {
          "output_type": "error",
          "ename": "ValueError",
          "evalue": "ignored",
          "traceback": [
            "\u001b[0;31m---------------------------------------------------------------------------\u001b[0m",
            "\u001b[0;31mValueError\u001b[0m                                Traceback (most recent call last)",
            "\u001b[0;32m<ipython-input-16-0b18b445af0f>\u001b[0m in \u001b[0;36m<module>\u001b[0;34m\u001b[0m\n\u001b[1;32m      4\u001b[0m          \u001b[0;34m,\u001b[0m \u001b[0;34m,\u001b[0m \u001b[0;36m9\u001b[0m\u001b[0;34m,\u001b[0m\u001b[0;36m10\u001b[0m\u001b[0;34m,\u001b[0m\u001b[0;36m11\u001b[0m\u001b[0;34m\u001b[0m\u001b[0;34m\u001b[0m\u001b[0m\n\u001b[1;32m      5\u001b[0m ''')\n\u001b[0;32m----> 6\u001b[0;31m \u001b[0mZ\u001b[0m\u001b[0;34m=\u001b[0m\u001b[0mnp\u001b[0m\u001b[0;34m.\u001b[0m\u001b[0mgenfromtxt\u001b[0m\u001b[0;34m(\u001b[0m\u001b[0mS\u001b[0m\u001b[0;34m,\u001b[0m\u001b[0mdelimiter\u001b[0m\u001b[0;34m=\u001b[0m\u001b[0;34m\",\"\u001b[0m\u001b[0;34m,\u001b[0m\u001b[0mdtype\u001b[0m\u001b[0;34m=\u001b[0m\u001b[0mnp\u001b[0m\u001b[0;34m.\u001b[0m\u001b[0mint\u001b[0m\u001b[0;34m)\u001b[0m\u001b[0;34m\u001b[0m\u001b[0;34m\u001b[0m\u001b[0m\n\u001b[0m\u001b[1;32m      7\u001b[0m \u001b[0mprint\u001b[0m\u001b[0;34m(\u001b[0m\u001b[0mZ\u001b[0m\u001b[0;34m)\u001b[0m\u001b[0;34m\u001b[0m\u001b[0;34m\u001b[0m\u001b[0m\n",
            "\u001b[0;32m/usr/local/lib/python3.7/dist-packages/numpy/lib/npyio.py\u001b[0m in \u001b[0;36mgenfromtxt\u001b[0;34m(fname, dtype, comments, delimiter, skip_header, skip_footer, converters, missing_values, filling_values, usecols, names, excludelist, deletechars, replace_space, autostrip, case_sensitive, defaultfmt, unpack, usemask, loose, invalid_raise, max_rows, encoding, like)\u001b[0m\n\u001b[1;32m   2122\u001b[0m             \u001b[0;31m# Raise an exception ?\u001b[0m\u001b[0;34m\u001b[0m\u001b[0;34m\u001b[0m\u001b[0;34m\u001b[0m\u001b[0m\n\u001b[1;32m   2123\u001b[0m             \u001b[0;32mif\u001b[0m \u001b[0minvalid_raise\u001b[0m\u001b[0;34m:\u001b[0m\u001b[0;34m\u001b[0m\u001b[0;34m\u001b[0m\u001b[0m\n\u001b[0;32m-> 2124\u001b[0;31m                 \u001b[0;32mraise\u001b[0m \u001b[0mValueError\u001b[0m\u001b[0;34m(\u001b[0m\u001b[0merrmsg\u001b[0m\u001b[0;34m)\u001b[0m\u001b[0;34m\u001b[0m\u001b[0;34m\u001b[0m\u001b[0m\n\u001b[0m\u001b[1;32m   2125\u001b[0m             \u001b[0;31m# Issue a warning ?\u001b[0m\u001b[0;34m\u001b[0m\u001b[0;34m\u001b[0m\u001b[0;34m\u001b[0m\u001b[0m\n\u001b[1;32m   2126\u001b[0m             \u001b[0;32melse\u001b[0m\u001b[0;34m:\u001b[0m\u001b[0;34m\u001b[0m\u001b[0;34m\u001b[0m\u001b[0m\n",
            "\u001b[0;31mValueError\u001b[0m: Some errors were detected !\n    Line #2 (got 6 columns instead of 5)"
          ]
        }
      ],
      "source": [
        "from io import StringIO\n",
        "S=StringIO('''1,2,3,4,5\n",
        "         6, , ,7,8,\n",
        "         , , 9,10,11\n",
        "''')\n",
        "Z=np.genfromtxt(S,delimiter=\",\",dtype=np.int)\n",
        "print(Z)"
      ]
    },
    {
      "cell_type": "markdown",
      "metadata": {
        "id": "AxiXt5XkHTyG"
      },
      "source": [
        "#### 55. What is the equivalent of enumerate for numpy arrays? (★★☆) \n",
        "(**hint**: np.ndenumerate, np.ndindex)"
      ]
    },
    {
      "cell_type": "code",
      "execution_count": null,
      "metadata": {
        "id": "zmvWQ6-2HTyH",
        "colab": {
          "base_uri": "https://localhost:8080/"
        },
        "outputId": "2ec3f324-c309-4d0a-e288-0931deed14d1"
      },
      "outputs": [
        {
          "output_type": "stream",
          "name": "stdout",
          "text": [
            "(0, 0) 0\n",
            "(0, 1) 1\n",
            "(0, 2) 2\n",
            "(1, 0) 3\n",
            "(1, 1) 4\n",
            "(1, 2) 5\n",
            "(2, 0) 6\n",
            "(2, 1) 7\n",
            "(2, 2) 8\n",
            "0 [0 1 2]\n",
            "0 [0 1 2]\n",
            "0 [0 1 2]\n",
            "1 [3 4 5]\n",
            "1 [3 4 5]\n",
            "1 [3 4 5]\n",
            "2 [6 7 8]\n",
            "2 [6 7 8]\n",
            "2 [6 7 8]\n"
          ]
        }
      ],
      "source": [
        "z=np.arange(9).reshape(3,3)\n",
        "for index,value in np.ndenumerate(z):\n",
        "    print(index,value)\n",
        "for index,value in np.ndindex(z.shape):\n",
        "    print(index,z[index])"
      ]
    },
    {
      "cell_type": "markdown",
      "metadata": {
        "id": "fFMeZ7Z8HTyH"
      },
      "source": [
        "#### 56. Generate a generic 2D Gaussian-like array (★★☆) \n",
        "(**hint**: np.meshgrid, np.exp)"
      ]
    },
    {
      "cell_type": "code",
      "execution_count": null,
      "metadata": {
        "id": "6nkuf1SkHTyH",
        "colab": {
          "base_uri": "https://localhost:8080/"
        },
        "outputId": "3ae2dad7-91ed-4439-8d1e-0514e49764be"
      },
      "outputs": [
        {
          "output_type": "stream",
          "name": "stdout",
          "text": [
            "[[0.36787944 0.44822088 0.51979489 0.57375342 0.60279818 0.60279818\n",
            "  0.57375342 0.51979489 0.44822088 0.36787944]\n",
            " [0.44822088 0.54610814 0.63331324 0.69905581 0.73444367 0.73444367\n",
            "  0.69905581 0.63331324 0.54610814 0.44822088]\n",
            " [0.51979489 0.63331324 0.73444367 0.81068432 0.85172308 0.85172308\n",
            "  0.81068432 0.73444367 0.63331324 0.51979489]\n",
            " [0.57375342 0.69905581 0.81068432 0.89483932 0.9401382  0.9401382\n",
            "  0.89483932 0.81068432 0.69905581 0.57375342]\n",
            " [0.60279818 0.73444367 0.85172308 0.9401382  0.98773022 0.98773022\n",
            "  0.9401382  0.85172308 0.73444367 0.60279818]\n",
            " [0.60279818 0.73444367 0.85172308 0.9401382  0.98773022 0.98773022\n",
            "  0.9401382  0.85172308 0.73444367 0.60279818]\n",
            " [0.57375342 0.69905581 0.81068432 0.89483932 0.9401382  0.9401382\n",
            "  0.89483932 0.81068432 0.69905581 0.57375342]\n",
            " [0.51979489 0.63331324 0.73444367 0.81068432 0.85172308 0.85172308\n",
            "  0.81068432 0.73444367 0.63331324 0.51979489]\n",
            " [0.44822088 0.54610814 0.63331324 0.69905581 0.73444367 0.73444367\n",
            "  0.69905581 0.63331324 0.54610814 0.44822088]\n",
            " [0.36787944 0.44822088 0.51979489 0.57375342 0.60279818 0.60279818\n",
            "  0.57375342 0.51979489 0.44822088 0.36787944]]\n"
          ]
        }
      ],
      "source": [
        "X,Y=np.meshgrid(np.linspace(-1,1,10),np.linspace(-1,1,10))\n",
        "D=np.sqrt(X*X+Y*Y)\n",
        "sigma,mu=1.0,0.0\n",
        "G=np.exp(-((D-mu)**2/(2.0*sigma**2)))\n",
        "print(G)"
      ]
    },
    {
      "cell_type": "markdown",
      "metadata": {
        "id": "okwbukA5HTyH"
      },
      "source": [
        "#### 57. How to randomly place p elements in a 2D array? (★★☆) \n",
        "(**hint**: np.put, np.random.choice)"
      ]
    },
    {
      "cell_type": "code",
      "execution_count": null,
      "metadata": {
        "id": "L8obgrwjHTyI",
        "colab": {
          "base_uri": "https://localhost:8080/"
        },
        "outputId": "094247cf-192f-458b-fdbb-8901ffd8cc40"
      },
      "outputs": [
        {
          "output_type": "stream",
          "name": "stdout",
          "text": [
            "[[0. 0. 0. 0. 0. 0. 0. 0. 1. 0.]\n",
            " [0. 0. 0. 0. 0. 0. 0. 0. 0. 0.]\n",
            " [0. 0. 0. 0. 0. 0. 0. 0. 0. 0.]\n",
            " [0. 0. 0. 0. 0. 0. 0. 0. 0. 0.]\n",
            " [0. 0. 0. 0. 0. 0. 0. 0. 0. 0.]\n",
            " [0. 0. 1. 0. 0. 0. 0. 0. 0. 0.]\n",
            " [0. 0. 0. 0. 0. 0. 0. 0. 0. 0.]\n",
            " [0. 0. 0. 0. 0. 0. 0. 0. 0. 0.]\n",
            " [0. 0. 0. 0. 0. 0. 0. 0. 0. 0.]\n",
            " [0. 0. 0. 0. 0. 0. 0. 0. 0. 1.]]\n"
          ]
        }
      ],
      "source": [
        "n=10\n",
        "p=3\n",
        "Z=np.zeros((n,n))\n",
        "np.put(Z,np.random.choice(range(n*n),p,replace=False),1)\n",
        "print(Z)\n"
      ]
    },
    {
      "cell_type": "markdown",
      "metadata": {
        "id": "DQWEC9rwHTyI"
      },
      "source": [
        "#### 58. Subtract the mean of each row of a matrix (★★☆) \n",
        "(**hint**: mean(axis=,keepdims=))"
      ]
    },
    {
      "cell_type": "code",
      "execution_count": null,
      "metadata": {
        "id": "bO-_o2lwHTyL",
        "colab": {
          "base_uri": "https://localhost:8080/"
        },
        "outputId": "b22427d1-7cfa-4f48-abce-2fe1714c1856"
      },
      "outputs": [
        {
          "output_type": "stream",
          "name": "stdout",
          "text": [
            "[[-0.18401593  0.33176255 -0.4501619  -0.56758529 -0.00589269  0.28972923\n",
            "   0.28853815  0.24054287 -0.01945324  0.07653626]\n",
            " [ 0.33193626 -0.12184369 -0.34284621 -0.15097718  0.07483957 -0.11123499\n",
            "   0.36838603  0.41845872 -0.42903939 -0.03767911]\n",
            " [-0.38711436  0.04415564 -0.2519325  -0.09829668 -0.08910474  0.21688286\n",
            "   0.31254302  0.06408675 -0.00164779  0.1904278 ]\n",
            " [ 0.37637413  0.10875436 -0.38863759 -0.26816351  0.17731573 -0.04895601\n",
            "   0.11978339 -0.12318476 -0.30934375  0.35605801]\n",
            " [-0.07270553  0.38831773 -0.2984267   0.40006437  0.08546065 -0.31668659\n",
            "   0.31785491 -0.11394048 -0.30081237 -0.089126  ]]\n"
          ]
        }
      ],
      "source": [
        "X=np.random.rand(5,10)\n",
        "Y=X-X.mean(axis=1,keepdims=True)\n",
        "print(Y)"
      ]
    },
    {
      "cell_type": "code",
      "source": [
        "#older version\n",
        "Y=X-X.mean(axis=1).reshape(-1,1)\n",
        "print(Y)"
      ],
      "metadata": {
        "colab": {
          "base_uri": "https://localhost:8080/"
        },
        "id": "XszyOqNlMlZc",
        "outputId": "fd4d22fd-5d84-48a0-cdf2-a07122420503"
      },
      "execution_count": null,
      "outputs": [
        {
          "output_type": "stream",
          "name": "stdout",
          "text": [
            "[[-0.18401593  0.33176255 -0.4501619  -0.56758529 -0.00589269  0.28972923\n",
            "   0.28853815  0.24054287 -0.01945324  0.07653626]\n",
            " [ 0.33193626 -0.12184369 -0.34284621 -0.15097718  0.07483957 -0.11123499\n",
            "   0.36838603  0.41845872 -0.42903939 -0.03767911]\n",
            " [-0.38711436  0.04415564 -0.2519325  -0.09829668 -0.08910474  0.21688286\n",
            "   0.31254302  0.06408675 -0.00164779  0.1904278 ]\n",
            " [ 0.37637413  0.10875436 -0.38863759 -0.26816351  0.17731573 -0.04895601\n",
            "   0.11978339 -0.12318476 -0.30934375  0.35605801]\n",
            " [-0.07270553  0.38831773 -0.2984267   0.40006437  0.08546065 -0.31668659\n",
            "   0.31785491 -0.11394048 -0.30081237 -0.089126  ]]\n"
          ]
        }
      ]
    },
    {
      "cell_type": "markdown",
      "metadata": {
        "id": "ahI7kfzwHTyL"
      },
      "source": [
        "#### 59. How to sort an array by the nth column? (★★☆) \n",
        "(**hint**: argsort)"
      ]
    },
    {
      "cell_type": "code",
      "execution_count": null,
      "metadata": {
        "id": "X4xMcFeeHTyM",
        "colab": {
          "base_uri": "https://localhost:8080/"
        },
        "outputId": "579f4509-0c67-410b-c8ac-11f35a9e04a7"
      },
      "outputs": [
        {
          "output_type": "stream",
          "name": "stdout",
          "text": [
            "[[8 2 7]\n",
            " [6 3 2]\n",
            " [1 9 8]]\n",
            "[[8 2 7]\n",
            " [6 3 2]\n",
            " [1 9 8]]\n"
          ]
        }
      ],
      "source": [
        "X=np.random.randint(0,10,(3,3))\n",
        "print(X)\n",
        "print(X[X[:,1].argsort()])"
      ]
    },
    {
      "cell_type": "markdown",
      "metadata": {
        "id": "pvPrAsrYHTyM"
      },
      "source": [
        "#### 60. How to tell if a given 2D array has null columns? (★★☆) \n",
        "(**hint**: any, ~)"
      ]
    },
    {
      "cell_type": "code",
      "execution_count": null,
      "metadata": {
        "id": "wI6ybc_cHTyM",
        "colab": {
          "base_uri": "https://localhost:8080/"
        },
        "outputId": "bff81460-51c3-459b-d7ee-5924d5030230"
      },
      "outputs": [
        {
          "output_type": "stream",
          "name": "stdout",
          "text": [
            "True\n"
          ]
        }
      ],
      "source": [
        "X=np.random.randint(0,3,(3,10))\n",
        "print((~X.any(axis=0)).any())"
      ]
    },
    {
      "cell_type": "markdown",
      "metadata": {
        "id": "s9isiAclHTyM"
      },
      "source": [
        "#### 61. Find the nearest value from a given value in an array (★★☆) \n",
        "(**hint**: np.abs, argmin, flat)"
      ]
    },
    {
      "cell_type": "code",
      "execution_count": null,
      "metadata": {
        "id": "l5vN8ZftHTyM",
        "colab": {
          "base_uri": "https://localhost:8080/"
        },
        "outputId": "617c8e66-626a-4266-8433-735e549c97e8"
      },
      "outputs": [
        {
          "output_type": "stream",
          "name": "stdout",
          "text": [
            "0.4958943906744765\n"
          ]
        }
      ],
      "source": [
        "X=np.random.uniform(0,1,10)\n",
        "Y=0.5\n",
        "M=X.flat[np.abs(X-Y).argmin()]\n",
        "print(M)"
      ]
    },
    {
      "cell_type": "markdown",
      "metadata": {
        "id": "8EjooM-5HTyN"
      },
      "source": [
        "#### 62. Considering two arrays with shape (1,3) and (3,1), how to compute their sum using an iterator? (★★☆) \n",
        "(**hint**: np.nditer)"
      ]
    },
    {
      "cell_type": "code",
      "execution_count": null,
      "metadata": {
        "id": "YUbuLt-9HTyN",
        "colab": {
          "base_uri": "https://localhost:8080/"
        },
        "outputId": "cf3f7d10-4ff0-4190-fae7-16dc74dec5f7"
      },
      "outputs": [
        {
          "output_type": "stream",
          "name": "stdout",
          "text": [
            "[[0 1 2]\n",
            " [1 2 3]\n",
            " [2 3 4]]\n"
          ]
        }
      ],
      "source": [
        "A=np.arange(3).reshape(3,1)\n",
        "\n",
        "B=np.arange(3).reshape(1,3)\n",
        "\n",
        "iter=np.nditer([A,B,None])\n",
        "for x,y,z in iter:z[...]=x+y\n",
        "print(iter.operands[2])"
      ]
    },
    {
      "cell_type": "markdown",
      "metadata": {
        "id": "lu6YIIj-HTyN"
      },
      "source": [
        "#### 63. Create an array class that has a name attribute (★★☆) \n",
        "(**hint**: class method)"
      ]
    },
    {
      "cell_type": "code",
      "execution_count": 5,
      "metadata": {
        "id": "kYFeoQHJHTyN",
        "colab": {
          "base_uri": "https://localhost:8080/",
          "height": 130
        },
        "outputId": "9f2c7ce7-1351-4989-9327-dace05cfbb86"
      },
      "outputs": [
        {
          "output_type": "error",
          "ename": "SyntaxError",
          "evalue": "ignored",
          "traceback": [
            "\u001b[0;36m  File \u001b[0;32m\"<ipython-input-5-23d3f416cef9>\"\u001b[0;36m, line \u001b[0;32m2\u001b[0m\n\u001b[0;31m    def__new__(cls,array,name=\"no name\"):\u001b[0m\n\u001b[0m                                         ^\u001b[0m\n\u001b[0;31mSyntaxError\u001b[0m\u001b[0;31m:\u001b[0m invalid syntax\n"
          ]
        }
      ],
      "source": [
        "class NameArray(np.ndarray):\n",
        "  def__new__(cls,array,name=\"no name\"):\n",
        "    obj=np.asarray(array).view(cls)\n",
        "    obj.name=name\n",
        "    return obj\n",
        "  def __array_finalize__(self,obj):\n",
        "    if obj is None:return\n",
        "    self.info=getattr(obj,\"name\",\"noname\")\n",
        "X=NameArray(np.arange(10),\"range_10\")\n",
        "print(X.name)"
      ]
    },
    {
      "cell_type": "markdown",
      "metadata": {
        "id": "YQL_ckLBHTyO"
      },
      "source": [
        "#### 64. Consider a given vector, how to add 1 to each element indexed by a second vector (be careful with repeated indices)? (★★★) \n",
        "(**hint**: np.bincount | np.add.at)"
      ]
    },
    {
      "cell_type": "code",
      "execution_count": null,
      "metadata": {
        "id": "0h6qh5bEHTyO",
        "colab": {
          "base_uri": "https://localhost:8080/"
        },
        "outputId": "87bb2934-8cae-4035-97c6-094fb99f0b7f"
      },
      "outputs": [
        {
          "output_type": "stream",
          "name": "stdout",
          "text": [
            "[2. 4. 2. 2. 3. 2. 4. 7. 2. 2.]\n"
          ]
        }
      ],
      "source": [
        "X=np.ones(10)\n",
        "Y=np.random.randint(0,len(X),20)\n",
        "X+=np.bincount(Y,minlength=len(X))\n",
        "print(X)"
      ]
    },
    {
      "cell_type": "code",
      "source": [
        "np.add.at(X,Y,1)\n",
        "print(X)"
      ],
      "metadata": {
        "colab": {
          "base_uri": "https://localhost:8080/"
        },
        "id": "9UK0amHOUdCW",
        "outputId": "cbc2d8be-6cfc-49fc-a45a-05b206d92df0"
      },
      "execution_count": null,
      "outputs": [
        {
          "output_type": "stream",
          "name": "stdout",
          "text": [
            "[ 3.  7.  3.  3.  5.  3.  7. 13.  3.  3.]\n"
          ]
        }
      ]
    },
    {
      "cell_type": "markdown",
      "metadata": {
        "id": "o1v0xK-zHTyO"
      },
      "source": [
        "#### 65. How to accumulate elements of a vector (X) to an array (F) based on an index list (I)? (★★★) \n",
        "(**hint**: np.bincount)"
      ]
    },
    {
      "cell_type": "code",
      "execution_count": null,
      "metadata": {
        "id": "adXRpzjAHTyO",
        "colab": {
          "base_uri": "https://localhost:8080/"
        },
        "outputId": "cbafc02c-e7bc-4ec3-9a2a-5f3d6896b14e"
      },
      "outputs": [
        {
          "output_type": "stream",
          "name": "stdout",
          "text": [
            "[0. 1. 3. 9. 3. 4. 1.]\n"
          ]
        }
      ],
      "source": [
        "X=[1,2,3,4,5,6]\n",
        "Y=[1,3,9,3,4,1]\n",
        "Z=np.bincount(X,Y)\n",
        "print(Z)"
      ]
    },
    {
      "cell_type": "markdown",
      "metadata": {
        "id": "BYcbn3ThHTyP"
      },
      "source": [
        "#### 66. Considering a (w,h,3) image of (dtype=ubyte), compute the number of unique colors (★★★) \n",
        "(**hint**: np.unique)"
      ]
    },
    {
      "cell_type": "code",
      "execution_count": null,
      "metadata": {
        "id": "ebZhHoHTHTyP",
        "colab": {
          "base_uri": "https://localhost:8080/"
        },
        "outputId": "c3568317-6aa7-4b82-85b8-3e7bef6b11e2"
      },
      "outputs": [
        {
          "output_type": "stream",
          "name": "stdout",
          "text": [
            "64\n"
          ]
        }
      ],
      "source": [
        "w,h=256,256\n",
        "A=np.random.randint(0,4,(h,w,3)).astype(np.ubyte)\n",
        "colors=np.unique(A.reshape(-1,3),axis=0)\n",
        "n=len(colors)\n",
        "print(n)"
      ]
    },
    {
      "cell_type": "markdown",
      "metadata": {
        "id": "zaQrxoPjHTyP"
      },
      "source": [
        "#### 67. Considering a four dimensions array, how to get sum over the last two axis at once? (★★★) \n",
        "(**hint**: sum(axis=(-2,-1)))"
      ]
    },
    {
      "cell_type": "code",
      "execution_count": null,
      "metadata": {
        "id": "ASijkWzNHTyQ",
        "colab": {
          "base_uri": "https://localhost:8080/"
        },
        "outputId": "2ae8c308-d834-4f3d-e34b-323a6b901db6"
      },
      "outputs": [
        {
          "output_type": "stream",
          "name": "stdout",
          "text": [
            "[[68 63 58 36]\n",
            " [56 47 59 50]\n",
            " [69 33 54 62]]\n",
            "[[68 63 58 36]\n",
            " [56 47 59 50]\n",
            " [69 33 54 62]]\n"
          ]
        }
      ],
      "source": [
        "A=np.random.randint(0,10,(3,4,3,4))\n",
        "sum=A.sum(axis=(-2,-1))\n",
        "print(sum)\n",
        "sum=A.reshape(A.shape[:2]+(-1,)).sum(axis=-1)\n",
        "print(sum)"
      ]
    },
    {
      "cell_type": "markdown",
      "metadata": {
        "id": "5Lc7P1KrHTyQ"
      },
      "source": [
        "#### 68. Considering a one-dimensional vector D, how to compute means of subsets of D using a vector S of same size describing subset  indices? (★★★) \n",
        "(**hint**: np.bincount)"
      ]
    },
    {
      "cell_type": "code",
      "execution_count": null,
      "metadata": {
        "id": "SOdirVw6HTyQ",
        "colab": {
          "base_uri": "https://localhost:8080/"
        },
        "outputId": "01c925bb-14ee-41ee-93eb-abe2cb9a1ac6"
      },
      "outputs": [
        {
          "output_type": "stream",
          "name": "stdout",
          "text": [
            "[0.46128066 0.59326448 0.57891638 0.48081712 0.39575231 0.66400962\n",
            " 0.42931921 0.43859843 0.31976035 0.36699848]\n"
          ]
        }
      ],
      "source": [
        "A=np.random.uniform(0,1,100)\n",
        "B=np.random.randint(0,10,100)\n",
        "A_sums=np.bincount(B,weights=A)\n",
        "A_counts=np.bincount(B)\n",
        "A_means=A_sums/A_counts\n",
        "print(A_means)\n"
      ]
    },
    {
      "cell_type": "markdown",
      "metadata": {
        "id": "JgJZjf0AHTyR"
      },
      "source": [
        "#### 69. How to get the diagonal of a dot product? (★★★) \n",
        "(**hint**: np.diag)"
      ]
    },
    {
      "cell_type": "code",
      "execution_count": null,
      "metadata": {
        "id": "_xtDaoU4HTyR",
        "colab": {
          "base_uri": "https://localhost:8080/"
        },
        "outputId": "75e2f7ba-e684-470d-dd32-3bbc4f31e8d2"
      },
      "outputs": [
        {
          "output_type": "execute_result",
          "data": {
            "text/plain": [
              "array([1.4516199 , 1.19656052, 2.03029812, 0.53371588, 1.43077094])"
            ]
          },
          "metadata": {},
          "execution_count": 32
        }
      ],
      "source": [
        "A=np.random.uniform(0,1,(5,5))\n",
        "B=np.random.uniform(0,1,(5,5))\n",
        "np.diag(np.dot(A,B))"
      ]
    },
    {
      "cell_type": "markdown",
      "metadata": {
        "id": "tPzfeRHGHTyS"
      },
      "source": [
        "#### 70. Consider the vector \\[1, 2, 3, 4, 5\\], how to build a new vector with 3 consecutive zeros interleaved between each value? (★★★) \n",
        "(**hint**: array\\[::4\\])"
      ]
    },
    {
      "cell_type": "code",
      "execution_count": null,
      "metadata": {
        "id": "p8Ez8tMhHTyS",
        "colab": {
          "base_uri": "https://localhost:8080/"
        },
        "outputId": "daf98d9a-ba57-411d-861e-03a21c93c861"
      },
      "outputs": [
        {
          "output_type": "stream",
          "name": "stdout",
          "text": [
            "[1. 0. 0. 0. 2. 0. 0. 0. 3. 0. 0. 0. 4. 0. 0. 0. 5.]\n"
          ]
        }
      ],
      "source": [
        "A=np.array([1,2,3,4,5])\n",
        "n=3\n",
        "A1=np.zeros(len(A)+(len(A)-1)*(n))\n",
        "A1[::n+1]=A\n",
        "print(A1)"
      ]
    },
    {
      "cell_type": "markdown",
      "metadata": {
        "id": "ZUYerMYUHTyS"
      },
      "source": [
        "#### 71. Consider an array of dimension (5,5,3), how to mulitply it by an array with dimensions (5,5)? (★★★) \n",
        "(**hint**: array\\[:, :, None\\])"
      ]
    },
    {
      "cell_type": "code",
      "execution_count": null,
      "metadata": {
        "collapsed": true,
        "id": "yeC5xkTgHTyS",
        "colab": {
          "base_uri": "https://localhost:8080/"
        },
        "outputId": "c958d0c3-5f9a-4724-f365-335caa83655b"
      },
      "outputs": [
        {
          "output_type": "stream",
          "name": "stdout",
          "text": [
            "[[[2. 2. 2.]\n",
            "  [2. 2. 2.]\n",
            "  [2. 2. 2.]\n",
            "  [2. 2. 2.]\n",
            "  [2. 2. 2.]]\n",
            "\n",
            " [[2. 2. 2.]\n",
            "  [2. 2. 2.]\n",
            "  [2. 2. 2.]\n",
            "  [2. 2. 2.]\n",
            "  [2. 2. 2.]]\n",
            "\n",
            " [[2. 2. 2.]\n",
            "  [2. 2. 2.]\n",
            "  [2. 2. 2.]\n",
            "  [2. 2. 2.]\n",
            "  [2. 2. 2.]]\n",
            "\n",
            " [[2. 2. 2.]\n",
            "  [2. 2. 2.]\n",
            "  [2. 2. 2.]\n",
            "  [2. 2. 2.]\n",
            "  [2. 2. 2.]]\n",
            "\n",
            " [[2. 2. 2.]\n",
            "  [2. 2. 2.]\n",
            "  [2. 2. 2.]\n",
            "  [2. 2. 2.]\n",
            "  [2. 2. 2.]]]\n"
          ]
        }
      ],
      "source": [
        "A=np.ones((5,5,3))\n",
        "B=2*np.ones((5,5))\n",
        "print(A*B[:,:,None])"
      ]
    },
    {
      "cell_type": "markdown",
      "metadata": {
        "id": "v30mdeBoHTyT"
      },
      "source": [
        "#### 72. How to swap two rows of an array? (★★★) \n",
        "(**hint**: array\\[\\[\\]\\] = array\\[\\[\\]\\])"
      ]
    },
    {
      "cell_type": "code",
      "execution_count": null,
      "metadata": {
        "id": "Rh22vZT9HTyV",
        "colab": {
          "base_uri": "https://localhost:8080/"
        },
        "outputId": "e5035330-1bf9-4630-dd4c-3b46f4ff435c"
      },
      "outputs": [
        {
          "output_type": "stream",
          "name": "stdout",
          "text": [
            "[[ 5  6  7  8  9]\n",
            " [ 0  1  2  3  4]\n",
            " [10 11 12 13 14]\n",
            " [15 16 17 18 19]\n",
            " [20 21 22 23 24]]\n"
          ]
        }
      ],
      "source": [
        "A=np.arange(25).reshape(5,5)\n",
        "A[[0,1]]=A[[1,0]]\n",
        "print(A)"
      ]
    },
    {
      "cell_type": "markdown",
      "metadata": {
        "id": "EUjc0yaLHTyV"
      },
      "source": [
        "#### 73. Consider a set of 10 triplets describing 10 triangles (with shared vertices), find the set of unique line segments composing all the  triangles (★★★) \n",
        "(**hint**: repeat, np.roll, np.sort, view, np.unique)"
      ]
    },
    {
      "cell_type": "code",
      "execution_count": null,
      "metadata": {
        "id": "8ZS4HkCyHTyW",
        "colab": {
          "base_uri": "https://localhost:8080/"
        },
        "outputId": "a1296ac2-5f2c-4811-c3b6-4d3a82714a26"
      },
      "outputs": [
        {
          "output_type": "stream",
          "name": "stdout",
          "text": [
            "[( 0,  4) ( 0, 45) ( 4, 45) ( 5,  7) ( 5, 57) ( 6, 15) ( 6, 51) ( 7,  8)\n",
            " ( 7, 45) ( 7, 52) ( 7, 57) ( 7, 90) ( 8, 45) (12, 49) (12, 92) (13, 54)\n",
            " (13, 97) (15, 51) (17, 71) (17, 72) (18, 54) (18, 94) (41, 72) (41, 93)\n",
            " (49, 92) (52, 90) (54, 94) (54, 97) (71, 72) (72, 93)]\n"
          ]
        }
      ],
      "source": [
        "faces=np.random.randint(0,100,(10,3))\n",
        "F=np.roll(faces.repeat(2,axis=1),-1,axis=1)\n",
        "F=F.reshape(len(F)*3,2)\n",
        "F=np.sort(F,axis=1)\n",
        "G=F.view(dtype=[('p0',F.dtype),('p1',F.dtype)])\n",
        "G=np.unique(G)\n",
        "print(G)"
      ]
    },
    {
      "cell_type": "markdown",
      "metadata": {
        "id": "r1gx4FIxHTyW"
      },
      "source": [
        "#### 74. Given an array C that is a bincount, how to produce an array A such that np.bincount(A) == C? (★★★) \n",
        "(**hint**: np.repeat)"
      ]
    },
    {
      "cell_type": "code",
      "execution_count": null,
      "metadata": {
        "id": "dzI7Ml_rHTyW",
        "colab": {
          "base_uri": "https://localhost:8080/"
        },
        "outputId": "f7f9cad8-3c6c-4a02-8468-e133c3a2bc5b"
      },
      "outputs": [
        {
          "output_type": "stream",
          "name": "stdout",
          "text": [
            "[0 2 1 1 2 0 1]\n"
          ]
        }
      ],
      "source": [
        "A=np.bincount([1,1,2,3,4,4,6])\n",
        "B=np.repeat(np.arange(len(A)),A)\n",
        "print(A)"
      ]
    },
    {
      "cell_type": "markdown",
      "metadata": {
        "id": "0bZTTi1fHTyW"
      },
      "source": [
        "#### 75. How to compute averages using a sliding window over an array? (★★★) \n",
        "(**hint**: np.cumsum)"
      ]
    },
    {
      "cell_type": "code",
      "execution_count": null,
      "metadata": {
        "id": "UAOIPrrIHTyX",
        "colab": {
          "base_uri": "https://localhost:8080/"
        },
        "outputId": "9c053298-e0a5-4752-8ff7-6f66c01320f1"
      },
      "outputs": [
        {
          "output_type": "stream",
          "name": "stdout",
          "text": [
            "[ 1.  2.  3.  4.  5.  6.  7.  8.  9. 10. 11. 12. 13. 14. 15. 16. 17. 18.]\n"
          ]
        }
      ],
      "source": [
        "def moving_average(a,n=3):\n",
        "  ret=np.cumsum(a,dtype=float)\n",
        "  ret[n:]=ret[n:]-ret[:-n]\n",
        "  return ret[n-1:]/n\n",
        "Z=np.arange(20)\n",
        "print(moving_average(Z,n=3))"
      ]
    },
    {
      "cell_type": "markdown",
      "metadata": {
        "id": "QbZTR-RXHTyX"
      },
      "source": [
        "#### 76. Consider a one-dimensional array Z, build a two-dimensional array whose first row is (Z\\[0\\],Z\\[1\\],Z\\[2\\]) and each subsequent row is  shifted by 1 (last row should be (Z\\[-3\\],Z\\[-2\\],Z\\[-1\\]) (★★★) \n",
        "(**hint**: from numpy.lib import stride_tricks)"
      ]
    },
    {
      "cell_type": "code",
      "execution_count": null,
      "metadata": {
        "id": "VkiF6NT3HTyX",
        "colab": {
          "base_uri": "https://localhost:8080/"
        },
        "outputId": "35d36e6d-ba5e-49f2-c56e-65e9a6766cf2"
      },
      "outputs": [
        {
          "output_type": "stream",
          "name": "stdout",
          "text": [
            "[[0 1 2]\n",
            " [1 2 3]\n",
            " [2 3 4]\n",
            " [3 4 5]\n",
            " [4 5 6]\n",
            " [5 6 7]\n",
            " [6 7 8]\n",
            " [7 8 9]]\n"
          ]
        }
      ],
      "source": [
        "from numpy.lib import stride_tricks\n",
        "def rolling(a,window):\n",
        "  shape=(a.size-window+1,window)\n",
        "  strides=(a.strides[0],a.strides[0])\n",
        "  return stride_tricks.as_strided(a,shape=shape,strides=strides)\n",
        "Z=rolling(np.arange(10),3)\n",
        "print(Z)"
      ]
    },
    {
      "cell_type": "markdown",
      "metadata": {
        "id": "tea0iywyHTyX"
      },
      "source": [
        "#### 77. How to negate a boolean, or to change the sign of a float inplace? (★★★) \n",
        "(**hint**: np.logical_not, np.negative)"
      ]
    },
    {
      "cell_type": "code",
      "execution_count": null,
      "metadata": {
        "id": "IQXCgTjGHTyZ",
        "colab": {
          "base_uri": "https://localhost:8080/"
        },
        "outputId": "6b8585e8-fdb9-4262-8288-968e2a416ee8"
      },
      "outputs": [
        {
          "output_type": "execute_result",
          "data": {
            "text/plain": [
              "array([-1,  0,  0,  0,  0,  0, -1,  0,  0,  0, -1,  0, -1,  0, -1, -1,  0,\n",
              "       -1,  0, -1, -1, -1,  0, -1, -1,  0,  0, -1,  0, -1, -1, -1, -1,  0,\n",
              "        0,  0, -1,  0, -1, -1, -1, -1, -1,  0, -1, -1,  0, -1,  0,  0, -1,\n",
              "       -1, -1,  0,  0, -1,  0, -1, -1, -1, -1,  0, -1, -1, -1, -1,  0, -1,\n",
              "       -1,  0,  0,  0,  0, -1,  0, -1, -1, -1,  0, -1, -1, -1,  0, -1, -1,\n",
              "       -1,  0, -1,  0,  0, -1,  0, -1,  0,  0, -1,  0, -1, -1, -1])"
            ]
          },
          "metadata": {},
          "execution_count": 43
        }
      ],
      "source": [
        "Z=np.random.randint(0,2,100)\n",
        "np.logical_not(Z,out=Z)\n",
        "z=np.random.uniform(-1.0,1.0,100)\n",
        "np.negative(Z,out=Z)"
      ]
    },
    {
      "cell_type": "markdown",
      "metadata": {
        "id": "3-B5G7rSHTyb"
      },
      "source": [
        "#### 78. Consider 2 sets of points P0,P1 describing lines (2d) and a point p, how to compute distance from p to each line i  (P0\\[i\\],P1\\[i\\])? (★★★)"
      ]
    },
    {
      "cell_type": "code",
      "execution_count": null,
      "metadata": {
        "id": "nQq62P-JHTyb",
        "colab": {
          "base_uri": "https://localhost:8080/"
        },
        "outputId": "bcd017db-2c27-4c7e-95af-c8ae9b7c2ddf"
      },
      "outputs": [
        {
          "output_type": "stream",
          "name": "stdout",
          "text": [
            "[ 1.72729799 15.00754888 13.23697094 11.07990762  3.68698096  4.18777574\n",
            "  1.04810374  0.93189024  2.30045043  8.53387535]\n"
          ]
        }
      ],
      "source": [
        "def distance(P0,P1,p):\n",
        "  T=P1-P0\n",
        "  L=(T**2).sum(axis=1)\n",
        "  U=-((P0[:,0]-p[...,0])*T[:,0]+(P0[:,1]-p[...,1])*T[:,1])/L \n",
        "  U=U.reshape(len(U),1)\n",
        "  D=P0+U*T-p\n",
        "  return np.sqrt((D**2).sum(axis=1))\n",
        "P0=np.random.uniform(-10,10,(10,2))\n",
        "P1=np.random.uniform(-10,10,(10,2))\n",
        "p=np.random.uniform(-10,10,(1,2))\n",
        "print(distance(P0,P1,p))"
      ]
    },
    {
      "cell_type": "markdown",
      "metadata": {
        "id": "N16I1c_tHTye"
      },
      "source": [
        "#### 79. Consider 2 sets of points P0,P1 describing lines (2d) and a set of points P, how to compute distance from each point j (P\\[j\\]) to each line i (P0\\[i\\],P1\\[i\\])? (★★★)"
      ]
    },
    {
      "cell_type": "code",
      "execution_count": null,
      "metadata": {
        "id": "X88M4TgHHTyf",
        "colab": {
          "base_uri": "https://localhost:8080/"
        },
        "outputId": "1e75acd2-6bf3-4d02-d76a-5df97f3d7a27"
      },
      "outputs": [
        {
          "output_type": "stream",
          "name": "stdout",
          "text": [
            "[[7.84778810e+00 4.93852616e+00 7.96579464e+00 1.11614241e+01\n",
            "  4.00756460e+00 1.30024079e+01 3.80139917e+00 1.01718297e+01\n",
            "  1.33327895e+01 1.18999370e+00]\n",
            " [1.33827119e+01 4.75203577e+00 2.76049367e+00 4.82998643e+00\n",
            "  7.31930662e+00 5.61074170e-01 6.02312758e+00 1.23082811e+00\n",
            "  5.13350936e+00 1.28543112e+01]\n",
            " [8.67257264e-01 1.57473424e+01 1.20540656e+01 3.71300994e-01\n",
            "  7.20644062e+00 1.39657751e+01 6.43927765e+00 2.46811576e+00\n",
            "  2.01452498e+01 1.43632733e+00]\n",
            " [1.18779785e+01 3.84592073e-01 6.47047227e+00 1.67922125e+01\n",
            "  2.98019630e+00 1.31320401e+01 8.74529373e+00 1.45265913e+01\n",
            "  1.03707158e+01 1.91850410e+00]\n",
            " [6.78896029e+00 5.65980231e+00 9.18309751e+00 1.10190947e+01\n",
            "  5.22011170e+00 1.41679798e+01 2.93676943e+00 1.06802338e+01\n",
            "  1.45037266e+01 1.51323543e-02]\n",
            " [8.73606506e+00 7.66087675e+00 2.89383292e+00 4.71169889e+00\n",
            "  1.64109366e+00 6.13046100e+00 2.39316450e+00 1.62609229e+00\n",
            "  1.04208711e+01 7.18174154e+00]\n",
            " [1.08360136e+01 5.88877452e+00 8.95452936e-01 5.66839650e+00\n",
            "  3.57042552e+00 4.42392867e+00 4.32700973e+00 1.45134554e+00\n",
            "  8.29667999e+00 9.06049298e+00]\n",
            " [1.70259363e+01 2.11111147e-01 3.92824961e+00 1.02185039e+01\n",
            "  8.03766433e+00 9.45979033e-01 1.05892361e+01 3.07459029e+00\n",
            "  2.54348933e+00 1.32866400e+01]\n",
            " [5.87493552e+00 9.42978660e+00 6.40243548e+00 4.68265653e+00\n",
            "  1.88608777e+00 9.59905133e+00 1.72271794e-01 3.43933998e+00\n",
            "  1.36893782e+01 3.65570626e+00]\n",
            " [2.43464313e+00 1.81058916e+01 1.22846095e+01 2.38780206e+00\n",
            "  7.20467450e+00 1.34046236e+01 8.54689300e+00 7.09550986e-02\n",
            "  2.11300307e+01 1.28806326e+00]]\n"
          ]
        }
      ],
      "source": [
        "P0=np.random.uniform(-10,10,(10,2))\n",
        "P1=np.random.uniform(-10,10,(10,2))\n",
        "p=np.random.uniform(-10,10,(10,2))\n",
        "print(np.array([distance(P0,P1,p_i) for p_i in p]))"
      ]
    },
    {
      "cell_type": "markdown",
      "metadata": {
        "id": "se8ktmbJHTyf"
      },
      "source": [
        "#### 80. Consider an arbitrary array, write a function that extract a subpart with a fixed shape and centered on a given element (pad with a `fill` value when necessary) (★★★) \n",
        "(**hint**: minimum, maximum)"
      ]
    },
    {
      "cell_type": "code",
      "execution_count": null,
      "metadata": {
        "id": "8Yh9RrYCHTyf",
        "colab": {
          "base_uri": "https://localhost:8080/"
        },
        "outputId": "82680403-b4f0-43f9-c489-22fb450339db"
      },
      "outputs": [
        {
          "output_type": "stream",
          "name": "stdout",
          "text": [
            "[[5 7 1 1 0 3 4 9 8 0]\n",
            " [7 6 7 2 9 9 8 7 4 6]\n",
            " [6 4 3 7 3 0 7 3 8 5]\n",
            " [7 7 8 1 2 9 5 2 3 1]\n",
            " [1 1 0 8 3 3 3 3 7 0]\n",
            " [2 9 5 9 4 8 9 7 7 1]\n",
            " [5 7 6 8 4 8 8 1 9 1]\n",
            " [1 7 6 4 2 9 0 4 4 5]\n",
            " [3 1 6 2 6 5 0 5 7 5]\n",
            " [2 5 3 8 8 4 2 0 5 8]]\n",
            "[[0 0 0 0 0]\n",
            " [0 5 7 1 1]\n",
            " [0 7 6 7 2]\n",
            " [0 6 4 3 7]\n",
            " [0 7 7 8 1]]\n"
          ]
        },
        {
          "output_type": "stream",
          "name": "stderr",
          "text": [
            "/usr/local/lib/python3.7/dist-packages/ipykernel_launcher.py:23: FutureWarning: Using a non-tuple sequence for multidimensional indexing is deprecated; use `arr[tuple(seq)]` instead of `arr[seq]`. In the future this will be interpreted as an array index, `arr[np.array(seq)]`, which will result either in an error or a different result.\n"
          ]
        }
      ],
      "source": [
        "from textwrap import fill\n",
        "Z=np.random.randint(0,10,(10,10))\n",
        "shape=(5,5)\n",
        "fill=0\n",
        "position=(1,1)\n",
        "R=np.ones(shape,dtype=Z.dtype)*fill\n",
        "P=np.array(list(position)).astype(int)\n",
        "Rs=np.array(list(R.shape)).astype(int)\n",
        "Zs=np.array(list(Z.shape)).astype(int)\n",
        "\n",
        "R_start=np.zeros(len(shape),).astype(int)\n",
        "R_stop=np.array(list(shape)).astype(int)\n",
        "Z_start=(P-Rs//2)\n",
        "Z_stop=(P+Rs//2)+Rs%2\n",
        "\n",
        "R_start=(R_start-np.minimum(Z_start,0)).tolist()\n",
        "Z_start=(np.maximum(Z_start,0)).tolist()\n",
        "R_stop=np.maximum(R_start,(R_stop-np.maximum(Z_stop-Zs,0))).tolist()\n",
        "Z_stop=(np.minimum(Z_stop,Zs)).tolist()\n",
        "\n",
        "r=[slice(start,stop) for start,stop in zip(R_start,R_stop)]\n",
        "z=[slice(start,stop) for start,stop in zip(Z_start,Z_stop)]\n",
        "R[r]=Z[z]\n",
        "print(Z)\n",
        "print(R)"
      ]
    },
    {
      "cell_type": "markdown",
      "metadata": {
        "id": "gDpEnT74HTyf"
      },
      "source": [
        "#### 81. Consider an array Z = \\[1,2,3,4,5,6,7,8,9,10,11,12,13,14\\], how to generate an array R = \\[\\[1,2,3,4\\], \\[2,3,4,5\\], \\[3,4,5,6\\], ..., \\[11,12,13,14\\]\\]? (★★★) \n",
        "(**hint**: stride\\_tricks.as\\_strided)"
      ]
    },
    {
      "cell_type": "code",
      "execution_count": null,
      "metadata": {
        "id": "H7WrqOQBHTyg",
        "colab": {
          "base_uri": "https://localhost:8080/"
        },
        "outputId": "71a260ef-a20d-41e5-f2a7-7f411a8e7723"
      },
      "outputs": [
        {
          "output_type": "stream",
          "name": "stdout",
          "text": [
            "[[ 1  2  3  4]\n",
            " [ 2  3  4  5]\n",
            " [ 3  4  5  6]\n",
            " [ 4  5  6  7]\n",
            " [ 5  6  7  8]\n",
            " [ 6  7  8  9]\n",
            " [ 7  8  9 10]\n",
            " [ 8  9 10 11]\n",
            " [ 9 10 11 12]\n",
            " [10 11 12 13]\n",
            " [11 12 13 14]]\n"
          ]
        }
      ],
      "source": [
        "Z=np.arange(1,15,dtype=np.uint32)\n",
        "R=stride_tricks.as_strided(Z,(11,4),(4,4))\n",
        "print(R)"
      ]
    },
    {
      "cell_type": "markdown",
      "metadata": {
        "id": "vOT2NBgbHTyg"
      },
      "source": [
        "#### 82. Compute a matrix rank (★★★) \n",
        "(**hint**: np.linalg.svd) (suggestion: np.linalg.svd)"
      ]
    },
    {
      "cell_type": "code",
      "execution_count": null,
      "metadata": {
        "id": "jqOI4xAxHTyg",
        "colab": {
          "base_uri": "https://localhost:8080/"
        },
        "outputId": "4778093e-4b82-4c3b-ee9a-898e91cb502e"
      },
      "outputs": [
        {
          "output_type": "stream",
          "name": "stdout",
          "text": [
            "10\n"
          ]
        }
      ],
      "source": [
        "Z=np.random.uniform(0,1,(10,10))\n",
        "U,S,V=np.linalg.svd(Z)\n",
        "rank=np.sum(S>1e-10)\n",
        "print(rank)"
      ]
    },
    {
      "cell_type": "markdown",
      "metadata": {
        "id": "HY8oQ7ccHTyh"
      },
      "source": [
        "#### 83. How to find the most frequent value in an array? \n",
        "(**hint**: np.bincount, argmax)"
      ]
    },
    {
      "cell_type": "code",
      "execution_count": null,
      "metadata": {
        "id": "Kgd1_ncYHTyh",
        "colab": {
          "base_uri": "https://localhost:8080/"
        },
        "outputId": "96c3a6f4-194b-45f3-a4fc-403d443196ec"
      },
      "outputs": [
        {
          "output_type": "stream",
          "name": "stdout",
          "text": [
            "4\n"
          ]
        }
      ],
      "source": [
        "Z=np.random.randint(0,10,50)\n",
        "print(np.bincount(Z).argmax())"
      ]
    },
    {
      "cell_type": "markdown",
      "metadata": {
        "id": "fK1Lx0wVHTyh"
      },
      "source": [
        "#### 84. Extract all the contiguous 3x3 blocks from a random 10x10 matrix (★★★) \n",
        "(**hint**: stride\\_tricks.as\\_strided)"
      ]
    },
    {
      "cell_type": "code",
      "execution_count": null,
      "metadata": {
        "id": "GuWMHxMYHTyh",
        "colab": {
          "base_uri": "https://localhost:8080/"
        },
        "outputId": "b0cecd79-0781-4fd7-ddc2-0175f8e69735"
      },
      "outputs": [
        {
          "output_type": "stream",
          "name": "stdout",
          "text": [
            "[[[[0 4 1]\n",
            "   [3 1 1]\n",
            "   [1 3 3]]\n",
            "\n",
            "  [[4 1 1]\n",
            "   [1 1 3]\n",
            "   [3 3 1]]\n",
            "\n",
            "  [[1 1 4]\n",
            "   [1 3 2]\n",
            "   [3 1 4]]\n",
            "\n",
            "  [[1 4 2]\n",
            "   [3 2 3]\n",
            "   [1 4 2]]\n",
            "\n",
            "  [[4 2 0]\n",
            "   [2 3 3]\n",
            "   [4 2 3]]\n",
            "\n",
            "  [[2 0 0]\n",
            "   [3 3 3]\n",
            "   [2 3 1]]\n",
            "\n",
            "  [[0 0 4]\n",
            "   [3 3 4]\n",
            "   [3 1 4]]\n",
            "\n",
            "  [[0 4 0]\n",
            "   [3 4 4]\n",
            "   [1 4 3]]]\n",
            "\n",
            "\n",
            " [[[3 1 1]\n",
            "   [1 3 3]\n",
            "   [1 3 1]]\n",
            "\n",
            "  [[1 1 3]\n",
            "   [3 3 1]\n",
            "   [3 1 3]]\n",
            "\n",
            "  [[1 3 2]\n",
            "   [3 1 4]\n",
            "   [1 3 0]]\n",
            "\n",
            "  [[3 2 3]\n",
            "   [1 4 2]\n",
            "   [3 0 4]]\n",
            "\n",
            "  [[2 3 3]\n",
            "   [4 2 3]\n",
            "   [0 4 3]]\n",
            "\n",
            "  [[3 3 3]\n",
            "   [2 3 1]\n",
            "   [4 3 4]]\n",
            "\n",
            "  [[3 3 4]\n",
            "   [3 1 4]\n",
            "   [3 4 2]]\n",
            "\n",
            "  [[3 4 4]\n",
            "   [1 4 3]\n",
            "   [4 2 1]]]\n",
            "\n",
            "\n",
            " [[[1 3 3]\n",
            "   [1 3 1]\n",
            "   [1 1 3]]\n",
            "\n",
            "  [[3 3 1]\n",
            "   [3 1 3]\n",
            "   [1 3 2]]\n",
            "\n",
            "  [[3 1 4]\n",
            "   [1 3 0]\n",
            "   [3 2 3]]\n",
            "\n",
            "  [[1 4 2]\n",
            "   [3 0 4]\n",
            "   [2 3 0]]\n",
            "\n",
            "  [[4 2 3]\n",
            "   [0 4 3]\n",
            "   [3 0 2]]\n",
            "\n",
            "  [[2 3 1]\n",
            "   [4 3 4]\n",
            "   [0 2 2]]\n",
            "\n",
            "  [[3 1 4]\n",
            "   [3 4 2]\n",
            "   [2 2 0]]\n",
            "\n",
            "  [[1 4 3]\n",
            "   [4 2 1]\n",
            "   [2 0 1]]]\n",
            "\n",
            "\n",
            " [[[1 3 1]\n",
            "   [1 1 3]\n",
            "   [2 1 2]]\n",
            "\n",
            "  [[3 1 3]\n",
            "   [1 3 2]\n",
            "   [1 2 0]]\n",
            "\n",
            "  [[1 3 0]\n",
            "   [3 2 3]\n",
            "   [2 0 3]]\n",
            "\n",
            "  [[3 0 4]\n",
            "   [2 3 0]\n",
            "   [0 3 2]]\n",
            "\n",
            "  [[0 4 3]\n",
            "   [3 0 2]\n",
            "   [3 2 3]]\n",
            "\n",
            "  [[4 3 4]\n",
            "   [0 2 2]\n",
            "   [2 3 3]]\n",
            "\n",
            "  [[3 4 2]\n",
            "   [2 2 0]\n",
            "   [3 3 0]]\n",
            "\n",
            "  [[4 2 1]\n",
            "   [2 0 1]\n",
            "   [3 0 2]]]\n",
            "\n",
            "\n",
            " [[[1 1 3]\n",
            "   [2 1 2]\n",
            "   [4 2 1]]\n",
            "\n",
            "  [[1 3 2]\n",
            "   [1 2 0]\n",
            "   [2 1 1]]\n",
            "\n",
            "  [[3 2 3]\n",
            "   [2 0 3]\n",
            "   [1 1 4]]\n",
            "\n",
            "  [[2 3 0]\n",
            "   [0 3 2]\n",
            "   [1 4 3]]\n",
            "\n",
            "  [[3 0 2]\n",
            "   [3 2 3]\n",
            "   [4 3 3]]\n",
            "\n",
            "  [[0 2 2]\n",
            "   [2 3 3]\n",
            "   [3 3 0]]\n",
            "\n",
            "  [[2 2 0]\n",
            "   [3 3 0]\n",
            "   [3 0 3]]\n",
            "\n",
            "  [[2 0 1]\n",
            "   [3 0 2]\n",
            "   [0 3 4]]]\n",
            "\n",
            "\n",
            " [[[2 1 2]\n",
            "   [4 2 1]\n",
            "   [4 1 2]]\n",
            "\n",
            "  [[1 2 0]\n",
            "   [2 1 1]\n",
            "   [1 2 1]]\n",
            "\n",
            "  [[2 0 3]\n",
            "   [1 1 4]\n",
            "   [2 1 4]]\n",
            "\n",
            "  [[0 3 2]\n",
            "   [1 4 3]\n",
            "   [1 4 0]]\n",
            "\n",
            "  [[3 2 3]\n",
            "   [4 3 3]\n",
            "   [4 0 2]]\n",
            "\n",
            "  [[2 3 3]\n",
            "   [3 3 0]\n",
            "   [0 2 2]]\n",
            "\n",
            "  [[3 3 0]\n",
            "   [3 0 3]\n",
            "   [2 2 4]]\n",
            "\n",
            "  [[3 0 2]\n",
            "   [0 3 4]\n",
            "   [2 4 4]]]\n",
            "\n",
            "\n",
            " [[[4 2 1]\n",
            "   [4 1 2]\n",
            "   [0 0 1]]\n",
            "\n",
            "  [[2 1 1]\n",
            "   [1 2 1]\n",
            "   [0 1 4]]\n",
            "\n",
            "  [[1 1 4]\n",
            "   [2 1 4]\n",
            "   [1 4 1]]\n",
            "\n",
            "  [[1 4 3]\n",
            "   [1 4 0]\n",
            "   [4 1 2]]\n",
            "\n",
            "  [[4 3 3]\n",
            "   [4 0 2]\n",
            "   [1 2 4]]\n",
            "\n",
            "  [[3 3 0]\n",
            "   [0 2 2]\n",
            "   [2 4 2]]\n",
            "\n",
            "  [[3 0 3]\n",
            "   [2 2 4]\n",
            "   [4 2 1]]\n",
            "\n",
            "  [[0 3 4]\n",
            "   [2 4 4]\n",
            "   [2 1 4]]]\n",
            "\n",
            "\n",
            " [[[4 1 2]\n",
            "   [0 0 1]\n",
            "   [2 3 2]]\n",
            "\n",
            "  [[1 2 1]\n",
            "   [0 1 4]\n",
            "   [3 2 3]]\n",
            "\n",
            "  [[2 1 4]\n",
            "   [1 4 1]\n",
            "   [2 3 2]]\n",
            "\n",
            "  [[1 4 0]\n",
            "   [4 1 2]\n",
            "   [3 2 2]]\n",
            "\n",
            "  [[4 0 2]\n",
            "   [1 2 4]\n",
            "   [2 2 2]]\n",
            "\n",
            "  [[0 2 2]\n",
            "   [2 4 2]\n",
            "   [2 2 2]]\n",
            "\n",
            "  [[2 2 4]\n",
            "   [4 2 1]\n",
            "   [2 2 0]]\n",
            "\n",
            "  [[2 4 4]\n",
            "   [2 1 4]\n",
            "   [2 0 2]]]]\n"
          ]
        }
      ],
      "source": [
        "Z=np.random.randint(0,5,(10,10))\n",
        "n=3\n",
        "i=1+(Z.shape[0]-3)\n",
        "j=1+(Z.shape[1]-3)\n",
        "C=stride_tricks.as_strided(Z,shape=(i,j,n,n),strides=Z.strides+Z.strides)\n",
        "print(C)\n"
      ]
    },
    {
      "cell_type": "markdown",
      "metadata": {
        "id": "whPW88bUHTyi"
      },
      "source": [
        "#### 85. Create a 2D array subclass such that Z\\[i,j\\] == Z\\[j,i\\] (★★★) \n",
        "(**hint**: class method)"
      ]
    },
    {
      "cell_type": "code",
      "execution_count": null,
      "metadata": {
        "id": "iBS43YsjHTyi",
        "colab": {
          "base_uri": "https://localhost:8080/"
        },
        "outputId": "f892ef63-8a79-4f18-95a5-f5a90f075f51"
      },
      "outputs": [
        {
          "output_type": "stream",
          "name": "stdout",
          "text": [
            "[[ 9 12 10  4  9]\n",
            " [12  7 15 10 14]\n",
            " [10 15  0 42 17]\n",
            " [ 4 10 42  9 10]\n",
            " [ 9 14 17 10  2]]\n"
          ]
        }
      ],
      "source": [
        "class Symetric(np.ndarray):\n",
        "  def __setitem__(self,index,value):\n",
        "    i,j=index\n",
        "    super(Symetric,self).__setitem__((i,j),value)\n",
        "    super(Symetric,self).__setitem__((j,i),value)\n",
        "def symetric(Z):\n",
        "  return np.asarray(Z+Z.T-np.diag(Z.diagonal())).view(Symetric)\n",
        "S=symetric(np.random.randint(0,10,(5,5)))\n",
        "S[2,3]=42\n",
        "print(S)\n"
      ]
    },
    {
      "cell_type": "markdown",
      "metadata": {
        "id": "Yzt_efHiHTyi"
      },
      "source": [
        "#### 86. Consider a set of p matrices wich shape (n,n) and a set of p vectors with shape (n,1). How to compute the sum of of the p matrix products at once? (result has shape (n,1)) (★★★) \n",
        "(**hint**: np.tensordot)"
      ]
    },
    {
      "cell_type": "code",
      "execution_count": null,
      "metadata": {
        "id": "z2N80tyHHTyi",
        "colab": {
          "base_uri": "https://localhost:8080/"
        },
        "outputId": "760a01aa-2308-454e-929a-d1061c967e63"
      },
      "outputs": [
        {
          "output_type": "stream",
          "name": "stdout",
          "text": [
            "[[200.]\n",
            " [200.]\n",
            " [200.]\n",
            " [200.]\n",
            " [200.]\n",
            " [200.]\n",
            " [200.]\n",
            " [200.]\n",
            " [200.]\n",
            " [200.]\n",
            " [200.]\n",
            " [200.]\n",
            " [200.]\n",
            " [200.]\n",
            " [200.]\n",
            " [200.]\n",
            " [200.]\n",
            " [200.]\n",
            " [200.]\n",
            " [200.]]\n"
          ]
        }
      ],
      "source": [
        "p,n=10,20\n",
        "M=np.ones((p,n,n))\n",
        "V=np.ones((p,n,1))\n",
        "S=np.tensordot(M,V,axes=[[0,2],[0,1]])\n",
        "print(S)"
      ]
    },
    {
      "cell_type": "markdown",
      "metadata": {
        "id": "a1jjrHZ_HTyj"
      },
      "source": [
        "#### 87. Consider a 16x16 array, how to get the block-sum (block size is 4x4)? (★★★) \n",
        "(**hint**: np.add.reduceat)"
      ]
    },
    {
      "cell_type": "code",
      "execution_count": null,
      "metadata": {
        "id": "GNTqiwEjHTyk",
        "colab": {
          "base_uri": "https://localhost:8080/"
        },
        "outputId": "1b9d41e1-32d1-4b41-8dee-2e1b81c10e63"
      },
      "outputs": [
        {
          "output_type": "stream",
          "name": "stdout",
          "text": [
            "[[16. 16. 16. 16.]\n",
            " [16. 16. 16. 16.]\n",
            " [16. 16. 16. 16.]\n",
            " [16. 16. 16. 16.]]\n"
          ]
        }
      ],
      "source": [
        "Z=np.ones((16,16))\n",
        "k=4\n",
        "S=np.add.reduceat(np.add.reduceat(Z,np.arange(0,Z.shape[0],k),axis=0),np.arange(0,Z.shape[1],k),axis=1)\n",
        "print(S)\n"
      ]
    },
    {
      "cell_type": "markdown",
      "metadata": {
        "id": "FxpZPS8rHTyk"
      },
      "source": [
        "#### 88. How to implement the Game of Life using numpy arrays? (★★★)"
      ]
    },
    {
      "cell_type": "code",
      "execution_count": null,
      "metadata": {
        "id": "6HsAgLdMHTyk",
        "colab": {
          "base_uri": "https://localhost:8080/"
        },
        "outputId": "20631574-330e-4203-a61a-c807c50b84e8"
      },
      "outputs": [
        {
          "output_type": "stream",
          "name": "stdout",
          "text": [
            "[[0 0 0 ... 0 0 0]\n",
            " [0 0 0 ... 0 0 0]\n",
            " [0 0 0 ... 0 0 0]\n",
            " ...\n",
            " [0 0 0 ... 0 0 0]\n",
            " [0 0 0 ... 0 0 0]\n",
            " [0 0 0 ... 0 0 0]]\n"
          ]
        }
      ],
      "source": [
        "def iterate(Z):\n",
        "  N=(Z[0:-2,0:-2]+Z[0:-2,1:-1] +Z[0:-2,2:]+\n",
        "     Z[1:-1,0:-2]              +Z[1:-1,2:]+\n",
        "     Z[2: ,0:-2] + Z[2:,1:-1]    +Z[2:,2:])\n",
        "  birth=(N==3)&(Z[1:-1,1:-1]==0)\n",
        "  survive=((N==2)|(N==3)) &(Z[1:-1,1:-1]==1)\n",
        "  Z[...]=0\n",
        "  Z[1:-1,1:-1][birth|survive]=1\n",
        "  return Z\n",
        "Z=np.random.randint(0,2,(50,50))\n",
        "for i in range(100):Z=iterate(Z)\n",
        "print(Z)"
      ]
    },
    {
      "cell_type": "markdown",
      "metadata": {
        "id": "o9vxO7wOHTyl"
      },
      "source": [
        "#### 89. How to get the n largest values of an array (★★★) \n",
        "(**hint**: np.argsort | np.argpartition)"
      ]
    },
    {
      "cell_type": "code",
      "execution_count": null,
      "metadata": {
        "id": "msH723_6HTyl",
        "colab": {
          "base_uri": "https://localhost:8080/"
        },
        "outputId": "58de85c0-bc77-48e8-eabf-17f4c5a00a9f"
      },
      "outputs": [
        {
          "output_type": "stream",
          "name": "stdout",
          "text": [
            "[9995 9996 9997 9998 9999]\n",
            "[9999 9998 9997 9995 9996]\n"
          ]
        }
      ],
      "source": [
        "Z=np.arange(10000)\n",
        "np.random.shuffle(Z)\n",
        "n=5\n",
        "print(Z[np.argsort(Z)[-n:]])\n",
        "print(Z[np.argpartition(-Z,n)[:n]])"
      ]
    },
    {
      "cell_type": "markdown",
      "metadata": {
        "id": "4MydjNFxHTyl"
      },
      "source": [
        "#### 90. Given an arbitrary number of vectors, build the cartesian product (every combinations of every item) (★★★) \n",
        "(**hint**: np.indices)"
      ]
    },
    {
      "cell_type": "code",
      "execution_count": null,
      "metadata": {
        "scrolled": true,
        "id": "iy4ieZ9pHTyl",
        "colab": {
          "base_uri": "https://localhost:8080/"
        },
        "outputId": "b77a4e7b-0ce9-4ce0-ee37-9b18e03782ce"
      },
      "outputs": [
        {
          "output_type": "stream",
          "name": "stdout",
          "text": [
            "[[1 4 6]\n",
            " [1 4 7]\n",
            " [1 5 6]\n",
            " [1 5 7]\n",
            " [2 4 6]\n",
            " [2 4 7]\n",
            " [2 5 6]\n",
            " [2 5 7]\n",
            " [3 4 6]\n",
            " [3 4 7]\n",
            " [3 5 6]\n",
            " [3 5 7]]\n"
          ]
        }
      ],
      "source": [
        "\n",
        "def cartesian(arrays):\n",
        "  arrays=[np.asarray(a) for a in arrays]\n",
        "  shape=(len(x) for x in arrays)\n",
        "  ix=np.indices(shape,dtype=int)\n",
        "  ix=ix.reshape(len(arrays),-1).T\n",
        "  for n,arr in enumerate(arrays):\n",
        "    ix[:,n]=arrays[n][ix[:,n]]\n",
        "  return ix\n",
        "print(cartesian(([1,2,3],[4,5],[6,7])))"
      ]
    },
    {
      "cell_type": "markdown",
      "metadata": {
        "id": "S8QpRqfsHTym"
      },
      "source": [
        "#### 91. How to create a record array from a regular array? (★★★) \n",
        "(**hint**: np.core.records.fromarrays)"
      ]
    },
    {
      "cell_type": "code",
      "execution_count": null,
      "metadata": {
        "id": "9Y0_2C39HTym",
        "colab": {
          "base_uri": "https://localhost:8080/"
        },
        "outputId": "b4eac0de-364a-4fe6-f550-b9695402a686"
      },
      "outputs": [
        {
          "output_type": "stream",
          "name": "stdout",
          "text": [
            "[(b'hello', 2.5, 3) (b'world', 3.6, 2)]\n"
          ]
        }
      ],
      "source": [
        "Z=np.array([(\"hello\",2.5,3),(\"world\",3.6,2)])\n",
        "R=np.core.records.fromarrays(Z.T,names=\"col1,col2,col3\",formats=\"S8,f8,i8\")\n",
        "print(R)\n"
      ]
    },
    {
      "cell_type": "markdown",
      "metadata": {
        "id": "wLMcBuDLHTym"
      },
      "source": [
        "#### 92. Consider a large vector Z, compute Z to the power of 3 using 3 different methods (★★★) \n",
        "(**hint**: np.power, \\*, np.einsum)"
      ]
    },
    {
      "cell_type": "code",
      "execution_count": null,
      "metadata": {
        "id": "m97Jj1RGHTyn",
        "colab": {
          "base_uri": "https://localhost:8080/"
        },
        "outputId": "a1eced8a-6954-433a-a9c6-bf3ce8ce2b7a"
      },
      "outputs": [
        {
          "output_type": "stream",
          "name": "stdout",
          "text": [
            "3.91 s ± 235 ms per loop (mean ± std. dev. of 7 runs, 1 loop each)\n",
            "157 ms ± 1.53 ms per loop (mean ± std. dev. of 7 runs, 10 loops each)\n",
            "133 ms ± 2.12 ms per loop (mean ± std. dev. of 7 runs, 10 loops each)\n"
          ]
        }
      ],
      "source": [
        "x=np.random.rand(int(5e7))\n",
        "%timeit np.power(x,3)\n",
        "%timeit x*x*x\n",
        "%timeit np.einsum('i,i,i->i',x,x,x)"
      ]
    },
    {
      "cell_type": "markdown",
      "metadata": {
        "id": "2oOviSrHHTyn"
      },
      "source": [
        "#### 93. Consider two arrays A and B of shape (8,3) and (2,2). How to find rows of A that contain elements of each row of B regardless of the order of the elements in B? (★★★) \n",
        "(**hint**: np.where)"
      ]
    },
    {
      "cell_type": "code",
      "execution_count": null,
      "metadata": {
        "id": "RQ8H4-LkHTyn",
        "colab": {
          "base_uri": "https://localhost:8080/"
        },
        "outputId": "b5b64afd-33ac-4c68-c5ce-321d44811344"
      },
      "outputs": [
        {
          "output_type": "stream",
          "name": "stdout",
          "text": [
            "[0 1 3 5]\n"
          ]
        }
      ],
      "source": [
        "A=np.random.randint(0,5,(8,3))\n",
        "B=np.random.randint(0,5,(2,2))\n",
        "C=(A[...,np.newaxis,np.newaxis]==B)\n",
        "rows=np.where(C.any((3,1)).all(1))[0]\n",
        "print(rows)"
      ]
    },
    {
      "cell_type": "markdown",
      "metadata": {
        "id": "9FIEs2etHTyo"
      },
      "source": [
        "#### 94. Considering a 10x3 matrix, extract rows with unequal values (e.g. \\[2,2,3\\]) (★★★)"
      ]
    },
    {
      "cell_type": "code",
      "execution_count": null,
      "metadata": {
        "id": "bJr63WpnHTyo",
        "colab": {
          "base_uri": "https://localhost:8080/"
        },
        "outputId": "8a40687c-220c-416b-aa57-ef1213197592"
      },
      "outputs": [
        {
          "output_type": "stream",
          "name": "stdout",
          "text": [
            "[[0 1 4]\n",
            " [2 0 0]\n",
            " [2 4 3]\n",
            " [4 0 0]\n",
            " [4 4 4]\n",
            " [3 0 3]\n",
            " [0 1 0]\n",
            " [0 4 1]\n",
            " [4 0 4]\n",
            " [3 4 0]]\n",
            "[[0 1 4]\n",
            " [2 0 0]\n",
            " [2 4 3]\n",
            " [4 0 0]\n",
            " [3 0 3]\n",
            " [0 1 0]\n",
            " [0 4 1]\n",
            " [4 0 4]\n",
            " [3 4 0]]\n"
          ]
        }
      ],
      "source": [
        "Z=np.random.randint(0,5,(10,3))\n",
        "print(Z)\n",
        "E=np.all(Z[:,1:]==Z[:,:-1],axis=1)\n",
        "U=Z[~E]\n",
        "print(U)\n"
      ]
    },
    {
      "cell_type": "markdown",
      "metadata": {
        "id": "Q-8zkIVxHTyo"
      },
      "source": [
        "#### 95. Convert a vector of ints into a matrix binary representation (★★★) \n",
        "(**hint**: np.unpackbits)"
      ]
    },
    {
      "cell_type": "code",
      "execution_count": null,
      "metadata": {
        "id": "P_CZzkkyHTyo",
        "colab": {
          "base_uri": "https://localhost:8080/"
        },
        "outputId": "32566e8e-6259-426d-b13c-552364d7a859"
      },
      "outputs": [
        {
          "output_type": "stream",
          "name": "stdout",
          "text": [
            "[[0 0 0 0 0 0 0 0]\n",
            " [0 0 0 0 0 0 0 1]\n",
            " [0 0 0 0 0 0 1 0]\n",
            " [0 0 0 0 0 0 1 1]\n",
            " [0 0 0 0 1 1 1 1]\n",
            " [0 0 0 1 0 0 0 0]\n",
            " [0 0 1 0 0 0 0 0]\n",
            " [0 1 0 0 0 0 0 0]\n",
            " [1 0 0 0 0 0 0 0]]\n"
          ]
        }
      ],
      "source": [
        "I=np.array([0,1,2,3,15,16,32,64,128])\n",
        "B=((I.reshape(-1,1)&(2**np.arange(8))) !=0).astype(int)\n",
        "print(B[:,::-1])"
      ]
    },
    {
      "cell_type": "markdown",
      "metadata": {
        "id": "HM0wrLEQHTyp"
      },
      "source": [
        "#### 96. Given a two dimensional array, how to extract unique rows? (★★★) \n",
        "(**hint**: np.ascontiguousarray)"
      ]
    },
    {
      "cell_type": "code",
      "execution_count": null,
      "metadata": {
        "id": "aQc2qSCIHTyp",
        "colab": {
          "base_uri": "https://localhost:8080/"
        },
        "outputId": "c33e80f6-8b4d-4a8a-f85b-0c4becbc6fda"
      },
      "outputs": [
        {
          "output_type": "stream",
          "name": "stdout",
          "text": [
            "[[0 0 0]\n",
            " [0 0 1]\n",
            " [1 0 0]\n",
            " [1 1 1]]\n"
          ]
        }
      ],
      "source": [
        "Z=np.random.randint(0,2,(6,3))\n",
        "T=np.ascontiguousarray(Z).view(np.dtype((np.void,Z.dtype.itemsize*Z.shape[1])))\n",
        "_,idx=np.unique(T,return_index=True)\n",
        "uZ=Z[idx]\n",
        "print(uZ)"
      ]
    },
    {
      "cell_type": "code",
      "source": [
        "uZ=np.unique(Z,axis=0)\n",
        "print(uZ)"
      ],
      "metadata": {
        "colab": {
          "base_uri": "https://localhost:8080/"
        },
        "id": "to9kGTR9CjYu",
        "outputId": "092b38e6-1bb4-436c-ef96-5627ba7d1ca1"
      },
      "execution_count": null,
      "outputs": [
        {
          "output_type": "stream",
          "name": "stdout",
          "text": [
            "[[0 0 0]\n",
            " [0 0 1]\n",
            " [1 0 0]\n",
            " [1 1 1]]\n"
          ]
        }
      ]
    },
    {
      "cell_type": "markdown",
      "metadata": {
        "id": "Lo0pzy_bHTyq"
      },
      "source": [
        "#### 97. Considering 2 vectors A & B, write the einsum equivalent of inner, outer, sum, and mul function (★★★) \n",
        "(**hint**: np.einsum)"
      ]
    },
    {
      "cell_type": "code",
      "execution_count": null,
      "metadata": {
        "id": "eo1RT1P8HTyq",
        "colab": {
          "base_uri": "https://localhost:8080/"
        },
        "outputId": "7a6105be-558f-49a2-a96a-7d74468f2a26"
      },
      "outputs": [
        {
          "output_type": "execute_result",
          "data": {
            "text/plain": [
              "array([[0.11826644, 0.41638836, 0.26601532, 0.08516437, 0.26791111,\n",
              "        0.04156734, 0.17331118, 0.1652547 , 0.15293321, 0.31562017],\n",
              "       [0.12451757, 0.43839712, 0.28007591, 0.08966584, 0.2820719 ,\n",
              "        0.04376443, 0.18247178, 0.17398946, 0.1610167 , 0.33230269],\n",
              "       [0.1765593 , 0.62162383, 0.39713276, 0.1271414 , 0.39996298,\n",
              "        0.06205564, 0.25873529, 0.24670781, 0.22831313, 0.47118756],\n",
              "       [0.1438807 , 0.50657016, 0.32362918, 0.10360935, 0.32593556,\n",
              "        0.05057003, 0.21084709, 0.20104573, 0.18605564, 0.38397749],\n",
              "       [0.02169485, 0.07638249, 0.04879798, 0.01562259, 0.04914575,\n",
              "        0.00762513, 0.03179229, 0.0303144 , 0.02805414, 0.05789752],\n",
              "       [0.01449581, 0.05103636, 0.03260526, 0.01043852, 0.03283763,\n",
              "        0.00509487, 0.0212426 , 0.02025512, 0.01874489, 0.03868529],\n",
              "       [0.15579702, 0.54852473, 0.35043242, 0.11219036, 0.35292981,\n",
              "        0.05475828, 0.22830962, 0.2176965 , 0.20146492, 0.41577883],\n",
              "       [0.13803688, 0.48599543, 0.31048473, 0.09940118, 0.31269744,\n",
              "        0.04851609, 0.20228338, 0.1928801 , 0.17849885, 0.36838196],\n",
              "       [0.05275159, 0.18572598, 0.11865354, 0.03798674, 0.11949914,\n",
              "        0.01854071, 0.07730377, 0.07371025, 0.06821437, 0.1407793 ],\n",
              "       [0.21228165, 0.74739384, 0.47748262, 0.15286528, 0.48088546,\n",
              "        0.07461105, 0.31108389, 0.29662295, 0.27450657, 0.56652056]])"
            ]
          },
          "metadata": {},
          "execution_count": 6
        }
      ],
      "source": [
        "A=np.random.uniform(0,1,10)\n",
        "B=np.random.uniform(0,1,10)\n",
        "np.einsum('i->',A)\n",
        "np.einsum('i,i->i',A,B)\n",
        "np.einsum('i,i',A,B)\n",
        "np.einsum('i,j->ij',A,B)"
      ]
    },
    {
      "cell_type": "markdown",
      "metadata": {
        "id": "c6ZE5kEwHTyq"
      },
      "source": [
        "#### 98. Considering a path described by two vectors (X,Y), how to sample it using equidistant samples (★★★)? \n",
        "(**hint**: np.cumsum, np.interp)"
      ]
    },
    {
      "cell_type": "code",
      "execution_count": null,
      "metadata": {
        "collapsed": true,
        "id": "drV6w5QgHTyq"
      },
      "outputs": [],
      "source": [
        "X=np.arange(0,10*np.pi,0.1)\n",
        "a=1\n",
        "m=a*X*np.cos(X)\n",
        "n=a*X*np.sin(X)\n",
        "dr=(np.diff(m)**2+np.diff(n)**2)**.5\n",
        "r=np.zeros_like(m)\n",
        "r[1:]=np.cumsum(dr)\n",
        "r_int=np.linspace(0,r.max(),200)\n",
        "m_int=np.interp(r_int,r,m)\n",
        "n_int=np.interp(r_int,r,n)\n"
      ]
    },
    {
      "cell_type": "markdown",
      "metadata": {
        "id": "2hFVmYSWHTyr"
      },
      "source": [
        "#### 99. Given an integer n and a 2D array X, select from X the rows which can be interpreted as draws from a multinomial distribution with n degrees, i.e., the rows which only contain integers and which sum to n. (★★★) \n",
        "(**hint**: np.logical\\_and.reduce, np.mod)"
      ]
    },
    {
      "cell_type": "code",
      "execution_count": null,
      "metadata": {
        "id": "F7L1ybTlHTyr",
        "colab": {
          "base_uri": "https://localhost:8080/"
        },
        "outputId": "81338dd1-f7ab-4fe6-af80-a3106cba2ea7"
      },
      "outputs": [
        {
          "output_type": "stream",
          "name": "stdout",
          "text": [
            "[[2. 0. 1. 1.]]\n"
          ]
        }
      ],
      "source": [
        "X=np.asarray([[1.0,0.0,3.0,8.0],[2.0,0.0,1.0,1.0],[1.5,2.5,1.0,0.0]])\n",
        "n=4\n",
        "M=np.logical_and.reduce(np.mod(X,1)==0,axis=-1)\n",
        "M&=(X.sum(axis=-1)==n)\n",
        "print(X[M])"
      ]
    },
    {
      "cell_type": "markdown",
      "metadata": {
        "id": "otsAKiehHTyr"
      },
      "source": [
        "#### 100. Compute bootstrapped 95% confidence intervals for the mean of a 1D array X (i.e., resample the elements of an array with replacement N times, compute the mean of each sample, and then compute percentiles over the means). (★★★) \n",
        "(**hint**: np.percentile)"
      ]
    },
    {
      "cell_type": "code",
      "execution_count": null,
      "metadata": {
        "id": "-L-6foJlHTyu",
        "colab": {
          "base_uri": "https://localhost:8080/"
        },
        "outputId": "701a9c3d-f8c6-4af0-cda8-aa79de81c474"
      },
      "outputs": [
        {
          "output_type": "stream",
          "name": "stdout",
          "text": [
            "[-0.39597819 -0.0128037 ]\n"
          ]
        }
      ],
      "source": [
        "X=np.random.randn(100)\n",
        "N=1000\n",
        "idx=np.random.randint(0,X.size,(N,X.size))\n",
        "means=X[idx].mean(axis=1)\n",
        "confint=np.percentile(means,[2.5,97.5])\n",
        "print(confint)"
      ]
    },
    {
      "cell_type": "code",
      "source": [
        ""
      ],
      "metadata": {
        "id": "gWhvg5XOwJP3"
      },
      "execution_count": null,
      "outputs": []
    }
  ],
  "metadata": {
    "kernelspec": {
      "display_name": "Python 3",
      "language": "python",
      "name": "python3"
    },
    "language_info": {
      "codemirror_mode": {
        "name": "ipython",
        "version": 3
      },
      "file_extension": ".py",
      "mimetype": "text/x-python",
      "name": "python",
      "nbconvert_exporter": "python",
      "pygments_lexer": "ipython3",
      "version": "3.8.3"
    },
    "colab": {
      "name": "Copy of Numpy_tasks.ipynb",
      "provenance": [],
      "collapsed_sections": [
        "tfWnM8ihHTx1",
        "xvOvWKHfHTyA",
        "o9vxO7wOHTyl",
        "S8QpRqfsHTym",
        "Q-8zkIVxHTyo",
        "HM0wrLEQHTyp",
        "Lo0pzy_bHTyq",
        "c6ZE5kEwHTyq"
      ],
      "include_colab_link": true
    }
  },
  "nbformat": 4,
  "nbformat_minor": 0
}